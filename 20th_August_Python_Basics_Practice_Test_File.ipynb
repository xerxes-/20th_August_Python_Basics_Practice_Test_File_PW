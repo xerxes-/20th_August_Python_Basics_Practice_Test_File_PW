{
 "cells": [
  {
   "cell_type": "markdown",
   "id": "c3724b4a-f900-4dc2-8f91-ae8d93d2c820",
   "metadata": {},
   "source": [
    "# TOPIC: String Based Assignment Problem"
   ]
  },
  {
   "cell_type": "markdown",
   "id": "aef5764b-d0e6-4dae-898a-8b7425897c15",
   "metadata": {},
   "source": [
    "#### 1. Write a program to reverse a string."
   ]
  },
  {
   "cell_type": "code",
   "execution_count": 1,
   "id": "3e0de572-1efc-4de6-a021-1b3fc884dd04",
   "metadata": {},
   "outputs": [
    {
     "name": "stdout",
     "output_type": "stream",
     "text": [
      "!dlroW ,olleH\n"
     ]
    }
   ],
   "source": [
    "s = \"Hello, World!\"\n",
    "\n",
    "# Reverse string\n",
    "t = s[::-1]\n",
    "print(t)"
   ]
  },
  {
   "cell_type": "markdown",
   "id": "a7a34893-7ad2-4f64-9b70-8c751f9ec28e",
   "metadata": {},
   "source": [
    "#### 2. Check if a string is a palindrome."
   ]
  },
  {
   "cell_type": "code",
   "execution_count": 3,
   "id": "736888f0-c46d-45c9-9ad0-12147e8ec4af",
   "metadata": {},
   "outputs": [
    {
     "name": "stdout",
     "output_type": "stream",
     "text": [
      "Nope.\n"
     ]
    }
   ],
   "source": [
    "p = \"nityin\"\n",
    "\n",
    "# Check if string is a palindrome\n",
    "if p == p[::-1]:\n",
    "    print(\"Yes, it is a palindrome.\")\n",
    "else:\n",
    "    print(\"Nope.\")"
   ]
  },
  {
   "cell_type": "markdown",
   "id": "2a5683d3-3af9-491c-8942-33759e5f99ed",
   "metadata": {},
   "source": [
    "#### 3. Convert a string to uppercase."
   ]
  },
  {
   "cell_type": "code",
   "execution_count": 6,
   "id": "3b738734-6507-496b-b11e-5f48b508ea45",
   "metadata": {},
   "outputs": [
    {
     "name": "stdout",
     "output_type": "stream",
     "text": [
      "NITYIN\n"
     ]
    }
   ],
   "source": [
    "u = p.upper()\n",
    "print(u)"
   ]
  },
  {
   "cell_type": "markdown",
   "id": "a4e30a76-b4c6-4808-976d-6ebfe59527a6",
   "metadata": {},
   "source": [
    "#### 4. Convert a string to lowercase"
   ]
  },
  {
   "cell_type": "code",
   "execution_count": 7,
   "id": "1c957b72-f84f-40c3-ac39-09a64e33344d",
   "metadata": {},
   "outputs": [
    {
     "name": "stdout",
     "output_type": "stream",
     "text": [
      "nityin\n"
     ]
    }
   ],
   "source": [
    "u = u.lower()\n",
    "print(u)"
   ]
  },
  {
   "cell_type": "markdown",
   "id": "acc53874-b739-45aa-a0a3-021bd460fb80",
   "metadata": {},
   "source": [
    "#### 5. Count the number of vowels in a string."
   ]
  },
  {
   "cell_type": "code",
   "execution_count": 8,
   "id": "4b2a7bb1-5771-4f7b-95a0-7056406bb4d6",
   "metadata": {},
   "outputs": [
    {
     "name": "stdout",
     "output_type": "stream",
     "text": [
      "The number of vowels in the input sentence: 6\n"
     ]
    }
   ],
   "source": [
    "sentence = \"The sun sets in the west.\"\n",
    "\n",
    "# Convert the sentence to lowercase to get all vowels\n",
    "sentence = sentence.lower()\n",
    "\n",
    "# Counter for vowels\n",
    "vow = 0\n",
    "\n",
    "# Counting the vowels\n",
    "vow += sentence.count(\"a\")\n",
    "vow += sentence.count(\"e\")\n",
    "vow += sentence.count(\"i\")\n",
    "vow += sentence.count(\"o\")\n",
    "vow += sentence.count(\"u\")\n",
    "\n",
    "print(\"The number of vowels in the input sentence:\", vow)"
   ]
  },
  {
   "cell_type": "markdown",
   "id": "1b04833d-d61e-4fa6-8b29-b11c8834311d",
   "metadata": {},
   "source": [
    "#### 6. Count the number of consonants in a string."
   ]
  },
  {
   "cell_type": "code",
   "execution_count": 15,
   "id": "b75f2810-13fa-47c6-b4b5-b7d78e274c04",
   "metadata": {},
   "outputs": [
    {
     "name": "stdout",
     "output_type": "stream",
     "text": [
      "The number of consonants in the sentence: 13\n"
     ]
    }
   ],
   "source": [
    "sen = \"The sun sets in the west.\"\n",
    "\n",
    "# Convert the sentence to lowercase\n",
    "sen = sen.lower()\n",
    "\n",
    "# Total length of string\n",
    "to = len(sen)\n",
    "\n",
    "# Counter for vowels\n",
    "vow = 0\n",
    "\n",
    "# Counting the vowels\n",
    "vow += sen.count(\"a\")\n",
    "vow += sen.count(\"e\")\n",
    "vow += sen.count(\"i\")\n",
    "vow += sen.count(\"o\")\n",
    "vow += sen.count(\"u\")\n",
    "\n",
    "# Counting extra characters\n",
    "e = 0\n",
    "e += sen.count(\".\")\n",
    "e += sen.count(\" \")\n",
    "\n",
    "print(\"The number of consonants in the sentence:\", to - (vow + e))"
   ]
  },
  {
   "cell_type": "markdown",
   "id": "9e2cf5ca-a14f-4688-bf33-6386dfff3f24",
   "metadata": {},
   "source": [
    "#### 7. Remove all whitespaces from a string."
   ]
  },
  {
   "cell_type": "code",
   "execution_count": 16,
   "id": "e498567b-6499-4b59-b246-4a7b8d06b35b",
   "metadata": {},
   "outputs": [
    {
     "name": "stdout",
     "output_type": "stream",
     "text": [
      "String without whitespaces: HelloWorld!\n"
     ]
    }
   ],
   "source": [
    "my_str = \"Hello   World    !\"\n",
    "\n",
    "# Remove whitespaces using replace() method\n",
    "new = my_str.replace(\" \", \"\")\n",
    "\n",
    "print(\"String without whitespaces:\", new)\n"
   ]
  },
  {
   "cell_type": "markdown",
   "id": "1409623c-337e-4e98-bf78-e598e58d415b",
   "metadata": {},
   "source": [
    "#### 8. Find the length of a string without using the `len()` function."
   ]
  },
  {
   "cell_type": "code",
   "execution_count": 20,
   "id": "378e84cc-ef90-4ba1-a0af-2de7f0fcda72",
   "metadata": {},
   "outputs": [
    {
     "name": "stdout",
     "output_type": "stream",
     "text": [
      "44\n"
     ]
    }
   ],
   "source": [
    "l = \"The quick brown fox jumps over the lazy dog.\"\n",
    "h = 0\n",
    "\n",
    "# Using for loop to get length of string\n",
    "for c in l:\n",
    "    h += 1\n",
    " \n",
    "print(h)"
   ]
  },
  {
   "cell_type": "markdown",
   "id": "ba378dda-672d-4dc6-9fb4-23339fa18d75",
   "metadata": {},
   "source": [
    "#### 9. Check if a string contains a specific word."
   ]
  },
  {
   "cell_type": "code",
   "execution_count": 2,
   "id": "0746c3f1-4e88-40d6-a3c5-aa91782af449",
   "metadata": {},
   "outputs": [
    {
     "name": "stdout",
     "output_type": "stream",
     "text": [
      "Yes, it is present.\n"
     ]
    }
   ],
   "source": [
    "str1 = \"His name is Dan. He is an honest man.\"\n",
    "\n",
    "# Check if string contains a specific word\n",
    "if \"honest\" in str1:\n",
    "    print(\"Yes, it is present.\")\n",
    "else:\n",
    "    print(\"Nope.\")"
   ]
  },
  {
   "cell_type": "markdown",
   "id": "4758558c-7831-486c-8639-fec526c0f446",
   "metadata": {},
   "source": [
    "#### 10. Replace a word in a string with another word."
   ]
  },
  {
   "cell_type": "code",
   "execution_count": 32,
   "id": "cc01d23d-925f-470c-adab-93339a7ffb0e",
   "metadata": {},
   "outputs": [
    {
     "name": "stdout",
     "output_type": "stream",
     "text": [
      "His name is Jim. He is an honest man.\n"
     ]
    }
   ],
   "source": [
    "str2 = str1.replace(\"Dan\", \"Jim\")\n",
    "print(str2)"
   ]
  },
  {
   "cell_type": "markdown",
   "id": "feb5670a-1c39-436c-9a44-0f6de27fbd14",
   "metadata": {},
   "source": [
    "#### 11. Count the occurrences of a word in a string."
   ]
  },
  {
   "cell_type": "code",
   "execution_count": 33,
   "id": "1e81750c-5848-4c83-ac29-c5fab82cafc0",
   "metadata": {},
   "outputs": [
    {
     "name": "stdout",
     "output_type": "stream",
     "text": [
      "1\n"
     ]
    }
   ],
   "source": [
    "o = str1.count(\"t\")\n",
    "print(o)"
   ]
  },
  {
   "cell_type": "markdown",
   "id": "e50a7f64-4748-4647-9d40-9ba5a256496e",
   "metadata": {},
   "source": [
    "#### 12. Find the first occurrence of a word in a string."
   ]
  },
  {
   "cell_type": "code",
   "execution_count": 1,
   "id": "1d560ff4-8c4e-47be-a48d-f169cb6d1e7f",
   "metadata": {},
   "outputs": [
    {
     "name": "stdout",
     "output_type": "stream",
     "text": [
      "12\n"
     ]
    }
   ],
   "source": [
    "str1 = \"His name is Dan. He is an honest man.\"\n",
    "\n",
    "# Find returns index value of the first occurrence of word we are searching\n",
    "print(str1.find(\"Dan\"))"
   ]
  },
  {
   "cell_type": "markdown",
   "id": "6aeb090a-4f67-422c-83f1-f83c642d605e",
   "metadata": {},
   "source": [
    "#### 13. Find the last occurrence of a word in a string."
   ]
  },
  {
   "cell_type": "code",
   "execution_count": 8,
   "id": "0b61276a-a0ef-442c-a72a-50ddbdd8b5f1",
   "metadata": {},
   "outputs": [
    {
     "name": "stdout",
     "output_type": "stream",
     "text": [
      "20\n"
     ]
    }
   ],
   "source": [
    "word_to_find = \"is\"\n",
    "\n",
    "# Find last occurrence of \"is\" using rfind()\n",
    "ind = str1.rfind(word_to_find)\n",
    "print(ind)\n"
   ]
  },
  {
   "cell_type": "markdown",
   "id": "74873d9b-b2ba-4da9-8b61-d573e3ec45d2",
   "metadata": {},
   "source": [
    "#### 14. Split a string into a list of words."
   ]
  },
  {
   "cell_type": "code",
   "execution_count": 9,
   "id": "61b887e1-ecb8-4811-8875-0e4a9e45aef1",
   "metadata": {},
   "outputs": [
    {
     "name": "stdout",
     "output_type": "stream",
     "text": [
      "['His', 'name', 'is', 'Dan.', 'He', 'is', 'an', 'honest', 'man.']\n"
     ]
    }
   ],
   "source": [
    "ls = str1.split()\n",
    "print(ls)"
   ]
  },
  {
   "cell_type": "markdown",
   "id": "1b2d0bd0-3ba7-4c12-87dd-aca92e03bfa0",
   "metadata": {},
   "source": [
    "#### 15. Join a list of words into a string."
   ]
  },
  {
   "cell_type": "code",
   "execution_count": 12,
   "id": "c18a13eb-26da-4716-a0be-33857bec5f2b",
   "metadata": {},
   "outputs": [
    {
     "name": "stdout",
     "output_type": "stream",
     "text": [
      "Hi Jodie how are you?\n"
     ]
    }
   ],
   "source": [
    "j = [\"Hi\", \"Jodie\", \"how\", \"are\", \"you?\"]\n",
    "k = \" \".join(j)\n",
    "print(k)"
   ]
  },
  {
   "cell_type": "markdown",
   "id": "f7450f96-e71c-4943-9d39-7784688858b8",
   "metadata": {},
   "source": [
    "#### 16. Convert a string where words are separated by spaces to one where words are separated by underscores."
   ]
  },
  {
   "cell_type": "code",
   "execution_count": 13,
   "id": "31ad0a45-7aac-4eb5-8be9-9b2cb617a333",
   "metadata": {},
   "outputs": [
    {
     "name": "stdout",
     "output_type": "stream",
     "text": [
      "His_name_is_Dan._He_is_an_honest_man.\n"
     ]
    }
   ],
   "source": [
    "uns = str1.replace(\" \", \"_\")\n",
    "print(uns)"
   ]
  },
  {
   "cell_type": "markdown",
   "id": "9309f04e-f9d6-4217-a3a8-0c1977806c2b",
   "metadata": {},
   "source": [
    "#### 17. Check if a string starts with a specific word or phrase."
   ]
  },
  {
   "cell_type": "code",
   "execution_count": 14,
   "id": "cff37c15-4cfe-4434-9fbd-76a0c928e530",
   "metadata": {},
   "outputs": [
    {
     "name": "stdout",
     "output_type": "stream",
     "text": [
      "False\n"
     ]
    }
   ],
   "source": [
    "print(str1.startswith(\"Python\"))"
   ]
  },
  {
   "cell_type": "markdown",
   "id": "201b7f6b-7296-427e-be20-b9bd2c113fb9",
   "metadata": {},
   "source": [
    "#### 18. Check if a string ends with a specific word or phrase."
   ]
  },
  {
   "cell_type": "code",
   "execution_count": 18,
   "id": "1e21a8c2-048d-412e-82c6-8ddc146e0ddd",
   "metadata": {},
   "outputs": [
    {
     "name": "stdout",
     "output_type": "stream",
     "text": [
      "False\n"
     ]
    }
   ],
   "source": [
    "print(str1.endswith(\"man\"))"
   ]
  },
  {
   "cell_type": "markdown",
   "id": "5c56925a-b0b0-46e2-a033-e338928fd1a8",
   "metadata": {},
   "source": [
    "#### 19. Convert a string to title case (e.g., \"hello world\" to \"Hello World\")."
   ]
  },
  {
   "cell_type": "code",
   "execution_count": 19,
   "id": "289ae3c7-4dff-43e3-909c-d2f1be1b3f20",
   "metadata": {},
   "outputs": [
    {
     "name": "stdout",
     "output_type": "stream",
     "text": [
      "His Name Is Dan. He Is An Honest Man.\n"
     ]
    }
   ],
   "source": [
    "print(str1.title())"
   ]
  },
  {
   "cell_type": "markdown",
   "id": "be2d750b-06c3-4f11-8a90-fb88abad9261",
   "metadata": {},
   "source": [
    "#### 20. Find the longest word in a string."
   ]
  },
  {
   "cell_type": "code",
   "execution_count": 20,
   "id": "8208d802-5476-4a58-9ad8-8a9b36fe1479",
   "metadata": {},
   "outputs": [
    {
     "name": "stdout",
     "output_type": "stream",
     "text": [
      "Longest word in the given string is honest.\n"
     ]
    }
   ],
   "source": [
    "# Split the string into a list of words\n",
    "words = str1.split()\n",
    "\n",
    "# Initialize variables to store the longest word and its length\n",
    "longest_word = \"\"\n",
    "max_length = 0\n",
    "\n",
    "# Loop through each word in the list\n",
    "for word in words:\n",
    "    # Check the length of each word\n",
    "    if len(word) > max_length:\n",
    "        max_length = len(word)\n",
    "        longest_word = word\n",
    "\n",
    "# Print the longest word\n",
    "print(f\"Longest word in the given string is {longest_word}.\")"
   ]
  },
  {
   "cell_type": "markdown",
   "id": "83f2d24c-8a63-4529-b46e-4c61e09add9a",
   "metadata": {},
   "source": [
    "#### 21. Find the shortest word in a string."
   ]
  },
  {
   "cell_type": "code",
   "execution_count": 26,
   "id": "2ca906e8-a159-49e7-b457-1ff91b400ece",
   "metadata": {},
   "outputs": [
    {
     "name": "stdout",
     "output_type": "stream",
     "text": [
      "Shortest word in the given string is 'is'.\n"
     ]
    }
   ],
   "source": [
    "# Split the string into a list of words\n",
    "words = str1.split()\n",
    "\n",
    "# Initialize variables to store the shortest word and its length\n",
    "shortest_word = words[0]\n",
    "min_length = len(shortest_word)\n",
    "\n",
    "# Loop through each word in the list starting from the second word\n",
    "for word in words[1:]:\n",
    "    # Check the length of each word\n",
    "    if len(word) < min_length:\n",
    "        min_length = len(word)\n",
    "        shortest_word = word  \n",
    "\n",
    "# Print the longest word\n",
    "print(f\"Shortest word in the given string is '{shortest_word}'.\")"
   ]
  },
  {
   "cell_type": "markdown",
   "id": "8b9538cb-4396-44c5-a38e-bc5f3cab2988",
   "metadata": {},
   "source": [
    "#### 22. Reverse the order of words in a string."
   ]
  },
  {
   "cell_type": "code",
   "execution_count": 28,
   "id": "640f76e7-81b6-4276-b433-6ddfc8976d95",
   "metadata": {},
   "outputs": [
    {
     "name": "stdout",
     "output_type": "stream",
     "text": [
      "Reversed order of words: man. honest an is He Dan. is name His\n"
     ]
    }
   ],
   "source": [
    "# Split the string into a list of words\n",
    "words = str1.split()\n",
    "\n",
    "# Reverse the order of words and join them back into a string\n",
    "reversed_string = ' '.join(reversed(words))\n",
    "\n",
    "# Print the reversed string\n",
    "print(\"Reversed order of words:\", reversed_string)"
   ]
  },
  {
   "cell_type": "markdown",
   "id": "38ae1958-0d52-40d5-a965-4257a2851b74",
   "metadata": {},
   "source": [
    "#### 23. Check if a string is alphanumeric."
   ]
  },
  {
   "cell_type": "code",
   "execution_count": 29,
   "id": "1721361a-6cdc-4cb6-a895-f77f5f0a3233",
   "metadata": {},
   "outputs": [
    {
     "name": "stdout",
     "output_type": "stream",
     "text": [
      "False\n"
     ]
    }
   ],
   "source": [
    "print(str1.isalnum())"
   ]
  },
  {
   "cell_type": "markdown",
   "id": "75cae8cc-7b01-4a6b-9bb4-0566188f4ff2",
   "metadata": {},
   "source": [
    "#### 24. Extract all digits from a string."
   ]
  },
  {
   "cell_type": "code",
   "execution_count": 2,
   "id": "2dc38089-9be1-4d93-939d-3c57e3ad7572",
   "metadata": {},
   "outputs": [
    {
     "name": "stdout",
     "output_type": "stream",
     "text": [
      "['3', '2']\n"
     ]
    }
   ],
   "source": [
    "str3 = \"Harry had 3 apples. He gave 2 away.\"\n",
    "extracted_digits = []\n",
    "\n",
    "# Check for digits and extract them in a list\n",
    "for char in str3:\n",
    "    if char.isdigit():\n",
    "        extracted_digits.append(char)\n",
    "        \n",
    "print(extracted_digits)        "
   ]
  },
  {
   "cell_type": "markdown",
   "id": "9d00bee5-36db-461a-83a5-a30e5287834b",
   "metadata": {},
   "source": [
    "#### 25. Extract all alphabets from a string."
   ]
  },
  {
   "cell_type": "code",
   "execution_count": 4,
   "id": "5f3ad4a6-fd7f-4ec9-ba81-8ec83a711c27",
   "metadata": {},
   "outputs": [
    {
     "name": "stdout",
     "output_type": "stream",
     "text": [
      "['H', 'a', 'r', 'r', 'y', 'h', 'a', 'd', 'a', 'p', 'p', 'l', 'e', 's', 'H', 'e', 'g', 'a', 'v', 'e', 'a', 'w', 'a', 'y']\n"
     ]
    }
   ],
   "source": [
    "extracted_alpha = []\n",
    "\n",
    "# Check for alphabets and extract them in a list\n",
    "for char in str3:\n",
    "    if char.isalpha():\n",
    "        extracted_alpha.append(char)\n",
    "        \n",
    "print(extracted_alpha)      "
   ]
  },
  {
   "cell_type": "markdown",
   "id": "e2d1a307-fd23-40d3-983a-0485e51eebd1",
   "metadata": {},
   "source": [
    "#### 26. Count the number of uppercase letters in a string."
   ]
  },
  {
   "cell_type": "code",
   "execution_count": 9,
   "id": "5f298498-3a65-42e8-9a0c-87a69baea7d6",
   "metadata": {},
   "outputs": [
    {
     "name": "stdout",
     "output_type": "stream",
     "text": [
      "Number of uppercase letters in the string: 2\n"
     ]
    }
   ],
   "source": [
    "extracted_alpha = []\n",
    "\n",
    "# Check for alphabets and extract them in a list\n",
    "for char in str3:\n",
    "    if char.isalpha():\n",
    "        extracted_alpha.append(char)\n",
    "\n",
    "count = 0\n",
    "\n",
    "for elm in extracted_alpha:\n",
    "    if elm.isupper():\n",
    "        count += 1\n",
    "        \n",
    "print(\"Number of uppercase letters in the string:\", count)        "
   ]
  },
  {
   "cell_type": "markdown",
   "id": "240a16e2-482d-4fe2-9c70-9523b68d8544",
   "metadata": {},
   "source": [
    "#### 27. Count the number of lowercase letters in a string."
   ]
  },
  {
   "cell_type": "code",
   "execution_count": 10,
   "id": "a3ac72c5-a89b-4133-8385-548c24d11a45",
   "metadata": {},
   "outputs": [
    {
     "name": "stdout",
     "output_type": "stream",
     "text": [
      "Number of lowercase letters in the string: 22\n"
     ]
    }
   ],
   "source": [
    "extracted_alpha = []\n",
    "\n",
    "# Check for alphabets and extract them in a list\n",
    "for char in str3:\n",
    "    if char.isalpha():\n",
    "        extracted_alpha.append(char)\n",
    "\n",
    "count = 0\n",
    "\n",
    "for elm in extracted_alpha:\n",
    "    if elm.islower():\n",
    "        count += 1\n",
    "        \n",
    "print(\"Number of lowercase letters in the string:\", count)        "
   ]
  },
  {
   "cell_type": "markdown",
   "id": "0544d7a9-81a9-4a34-8f11-7d83bc740ee4",
   "metadata": {},
   "source": [
    "#### 28. Swap the case of each character in a string."
   ]
  },
  {
   "cell_type": "code",
   "execution_count": 11,
   "id": "3e50408f-8b0a-418f-aef0-e5ae5f42d84d",
   "metadata": {},
   "outputs": [
    {
     "name": "stdout",
     "output_type": "stream",
     "text": [
      "hARRY HAD 3 APPLES. hE GAVE 2 AWAY.\n"
     ]
    }
   ],
   "source": [
    "print(str3.swapcase())"
   ]
  },
  {
   "cell_type": "markdown",
   "id": "3ec8d60c-a7b7-4aab-87d9-ad2f48f17c5f",
   "metadata": {},
   "source": [
    "#### 29. Remove a specific word from a string."
   ]
  },
  {
   "cell_type": "code",
   "execution_count": 12,
   "id": "c40d88bc-e351-4126-9ff8-a88cbe1f3010",
   "metadata": {},
   "outputs": [
    {
     "name": "stdout",
     "output_type": "stream",
     "text": [
      "Harry had 3 apples.  gave 2 away.\n"
     ]
    }
   ],
   "source": [
    "# There is no method to remove from a string but we can use replace() to get a specific word replaced with an empty string\n",
    "new_str3 = str3.replace(\"He\", \"\")\n",
    "print(new_str3)"
   ]
  },
  {
   "cell_type": "markdown",
   "id": "7d341b86-014e-4508-a157-5d8f1a80a2a8",
   "metadata": {},
   "source": [
    "#### 30. Check if a string is a valid email address."
   ]
  },
  {
   "cell_type": "code",
   "execution_count": 18,
   "id": "8c183e3f-622f-4290-a153-51745b33f983",
   "metadata": {},
   "outputs": [
    {
     "name": "stdout",
     "output_type": "stream",
     "text": [
      "Valid Email Address\n"
     ]
    }
   ],
   "source": [
    "email = \"triton@gmail.com\"\n",
    "\n",
    "if '@' in email and '.' in email:\n",
    "    # Check if '@' appears before '.'\n",
    "    if email.index(\"@\") < email.index(\".\"):\n",
    "        print(\"Valid Email Address\")\n",
    "    else:\n",
    "        print(\"Nope\")\n",
    "else:\n",
    "    print(\"Nope\")"
   ]
  },
  {
   "cell_type": "markdown",
   "id": "81594ab5-b079-4ad6-a400-92cccedd4ed3",
   "metadata": {},
   "source": [
    "#### 31. Extract the username from an email address string."
   ]
  },
  {
   "cell_type": "code",
   "execution_count": 22,
   "id": "ebc0078b-f8b4-4b33-a726-9504c6e95192",
   "metadata": {},
   "outputs": [
    {
     "name": "stdout",
     "output_type": "stream",
     "text": [
      "Username: triton\n"
     ]
    }
   ],
   "source": [
    "# Get '@' index\n",
    "atr = email.index(\"@\")\n",
    "\n",
    "# Initialize empty list\n",
    "lst = []\n",
    "\n",
    "# Loop to get username characters in a list\n",
    "for char in email[:atr]:\n",
    "    lst.append(char)\n",
    "\n",
    "# Converting list to string using join()\n",
    "un = \"\".join(lst) \n",
    "print(\"Username:\", un)\n"
   ]
  },
  {
   "cell_type": "markdown",
   "id": "0c9bca7b-83a0-4309-95be-b881d63147cd",
   "metadata": {},
   "source": [
    "#### 32. Extract the domain name from an email address string."
   ]
  },
  {
   "cell_type": "code",
   "execution_count": 23,
   "id": "09dad1c0-ec69-418b-a478-6bc7889461af",
   "metadata": {},
   "outputs": [
    {
     "name": "stdout",
     "output_type": "stream",
     "text": [
      "Domain Name: gmail\n"
     ]
    }
   ],
   "source": [
    "# Get '@' index\n",
    "atr = email.index(\"@\")\n",
    "\n",
    "# Get '.' index\n",
    "dot = email.index(\".\")\n",
    "\n",
    "# Initialize empty list\n",
    "lst = []\n",
    "\n",
    "# Loop to get domain name characters in a list\n",
    "for char in email[atr+1:dot]:\n",
    "    lst.append(char)\n",
    "    \n",
    "# Converting list to string using join()\n",
    "dn = \"\".join(lst) \n",
    "print(\"Domain Name:\", dn)"
   ]
  },
  {
   "cell_type": "markdown",
   "id": "c3ed4870-4188-4ecd-97b2-ca7a78ff1017",
   "metadata": {},
   "source": [
    "#### 33. Replace multiple spaces in a string with a single space."
   ]
  },
  {
   "cell_type": "code",
   "execution_count": 27,
   "id": "8f7d20ff-7256-4a4f-9886-2ee1fa7be6ef",
   "metadata": {},
   "outputs": [
    {
     "name": "stdout",
     "output_type": "stream",
     "text": [
      "New string: Give me a glass of water, please.\n"
     ]
    }
   ],
   "source": [
    "str4 = \"Give       me a   glass     of water     , please                             . \"\n",
    "\n",
    "# Replace multiple spaces with a single space using split() and join()\n",
    "new_str4 = ' '.join(str4.split())\n",
    "\n",
    "# Pretiify the output\n",
    "ns = new_str4.replace(\" ,\", \",\").replace(\" .\", \".\")\n",
    "\n",
    "# Print the updated string\n",
    "print(\"New string:\", ns)"
   ]
  },
  {
   "cell_type": "markdown",
   "id": "1caee588-7278-4ce4-98ed-75650ecbe7f6",
   "metadata": {},
   "source": [
    "#### 34. Check if a string is a valid URL."
   ]
  },
  {
   "cell_type": "code",
   "execution_count": 34,
   "id": "af06fadd-9f3c-4a98-a177-a271606b1640",
   "metadata": {},
   "outputs": [
    {
     "name": "stdout",
     "output_type": "stream",
     "text": [
      "Valid URL\n"
     ]
    }
   ],
   "source": [
    "url = \"https://yellow-hairdresser-drtfm.pwskills.app/lab/tree/work/20th_August_Python_Basics_Practice_Test_File.ipynb\"\n",
    "\n",
    "if \"https://\" in url and \".\" in url:\n",
    "    if url.index(\"https://\") < url.index(\".\"):\n",
    "        print(\"Valid URL\")\n",
    "    else:\n",
    "        print(\"Nope\")\n",
    "elif \"http://\" in url and \".\" in url:\n",
    "    if url.index(\"http://\") < url.index(\".\"):\n",
    "        print(\"Valid URL\")\n",
    "    else:\n",
    "        print(\"Nope\")        \n",
    "else:\n",
    "    print(\"Nope\")"
   ]
  },
  {
   "cell_type": "markdown",
   "id": "de9542ae-803b-41fc-a0f0-7c37e7c419e3",
   "metadata": {},
   "source": [
    "#### 35. Extract the protocol (http or https) from a URL string."
   ]
  },
  {
   "cell_type": "code",
   "execution_count": 37,
   "id": "16524089-01ba-483e-bad7-6af10ad16433",
   "metadata": {},
   "outputs": [
    {
     "name": "stdout",
     "output_type": "stream",
     "text": [
      "Protocol: https\n"
     ]
    }
   ],
   "source": [
    "if \"https://\" in url:\n",
    "    proto = url[:5]\n",
    "    print(\"Protocol:\", proto)\n",
    "elif \"http://\" in url:\n",
    "    proto = url[:4]\n",
    "    print(\"Protocol:\", proto)    \n",
    "else:\n",
    "    print(\"Not a valid URL.\")\n",
    "    "
   ]
  },
  {
   "cell_type": "markdown",
   "id": "4dc09e65-3b04-4bc7-ad48-727913acfc0a",
   "metadata": {},
   "source": [
    "#### 36. Find the frequency of each character in a string."
   ]
  },
  {
   "cell_type": "code",
   "execution_count": 38,
   "id": "95c0cbc6-9d7f-4c59-bcde-59c797927e46",
   "metadata": {},
   "outputs": [
    {
     "name": "stdout",
     "output_type": "stream",
     "text": [
      "Character frequencies in the string:\n",
      "'H' occurs 1 time(s) in the string.\n",
      "'e' occurs 1 time(s) in the string.\n",
      "'l' occurs 3 time(s) in the string.\n",
      "'o' occurs 2 time(s) in the string.\n",
      "',' occurs 1 time(s) in the string.\n",
      "' ' occurs 1 time(s) in the string.\n",
      "'W' occurs 1 time(s) in the string.\n",
      "'r' occurs 1 time(s) in the string.\n",
      "'d' occurs 1 time(s) in the string.\n",
      "'!' occurs 1 time(s) in the string.\n"
     ]
    }
   ],
   "source": [
    "str5 = \"Hello, World!\"\n",
    "\n",
    "# Initialize an empty list to store character frequencies\n",
    "char_freq = []\n",
    "\n",
    "# Display the frequency of each character\n",
    "print(\"Character frequencies in the string:\")\n",
    "for char in str5:\n",
    "    # Check if the character is not already counted\n",
    "    if char not in char_freq:\n",
    "        freq = str5.count(char)\n",
    "        char_freq.append(char)  # Store the character in the list\n",
    "        print(f\"'{char}' occurs {freq} time(s) in the string.\")\n"
   ]
  },
  {
   "cell_type": "markdown",
   "id": "b0a7caf5-5746-4110-9d9b-bc04fa73e9bc",
   "metadata": {},
   "source": [
    "#### 37. Remove all punctuation from a string."
   ]
  },
  {
   "cell_type": "code",
   "execution_count": 48,
   "id": "26984401-e029-42bf-a1f4-46cf16795926",
   "metadata": {},
   "outputs": [
    {
     "name": "stdout",
     "output_type": "stream",
     "text": [
      "Hi Harry How are you\n"
     ]
    }
   ],
   "source": [
    "str6 = \"Hi Harry, How are you?\"\n",
    "tl = []\n",
    "\n",
    "punc_chars = '''.\"'!;:?(){}-[],'''\n",
    "\n",
    "for char in str6:\n",
    "    if char not in punc_chars:\n",
    "        tl.append(char)\n",
    "\n",
    "aft_rem = \"\".join(tl)\n",
    "print(aft_rem)"
   ]
  },
  {
   "cell_type": "markdown",
   "id": "9ff8956f-9336-49e4-a6f8-c6511e2a28b1",
   "metadata": {},
   "source": [
    "#### 38. Check if a string contains only digits."
   ]
  },
  {
   "cell_type": "code",
   "execution_count": 2,
   "id": "f249c2c6-7409-467f-8542-0b0fe25df601",
   "metadata": {},
   "outputs": [
    {
     "name": "stdout",
     "output_type": "stream",
     "text": [
      "String does not contain only digits.\n"
     ]
    }
   ],
   "source": [
    "str7 = \"Harry had 4 apples and 5 pears.\"\n",
    "\n",
    "if str7.isdigit():\n",
    "    print(\"String contains only digits.\")\n",
    "else:\n",
    "    print(\"String does not contain only digits.\")"
   ]
  },
  {
   "cell_type": "markdown",
   "id": "58f9805a-8638-4be4-9ab5-9bb1d5cea8b1",
   "metadata": {},
   "source": [
    "#### 39. Check if a string contains only alphabets."
   ]
  },
  {
   "cell_type": "code",
   "execution_count": 3,
   "id": "f30c34bd-e679-4f50-9cd9-2514564bbf57",
   "metadata": {},
   "outputs": [
    {
     "name": "stdout",
     "output_type": "stream",
     "text": [
      "String does not contain only alphabets.\n"
     ]
    }
   ],
   "source": [
    "if str7.isalpha():\n",
    "    print(\"String contains only alphabets.\")\n",
    "else:\n",
    "    print(\"String does not contain only alphabets.\")"
   ]
  },
  {
   "cell_type": "markdown",
   "id": "21845fa8-50fc-47ef-8e39-d7a529906249",
   "metadata": {},
   "source": [
    "#### 40. Convert a string to a list of characters."
   ]
  },
  {
   "cell_type": "code",
   "execution_count": 6,
   "id": "c025ff50-7f67-4fcf-99b7-e989758dda32",
   "metadata": {},
   "outputs": [
    {
     "name": "stdout",
     "output_type": "stream",
     "text": [
      "['H', 'a', 'r', 'r', 'y', ' ', 'h', 'a', 'd', ' ', '4', ' ', 'a', 'p', 'p', 'l', 'e', 's', ' ', 'a', 'n', 'd', ' ', '5', ' ', 'p', 'e', 'a', 'r', 's', '.']\n"
     ]
    }
   ],
   "source": [
    "lst_chars = list(str7)\n",
    "print(lst_chars)"
   ]
  },
  {
   "cell_type": "markdown",
   "id": "25793e14-32bc-4d52-a903-f5f6e26c340d",
   "metadata": {},
   "source": [
    "#### 41. Check if two strings are anagrams."
   ]
  },
  {
   "cell_type": "code",
   "execution_count": 11,
   "id": "9c63dfc1-ca24-41c9-806e-ae95aa2f5c5c",
   "metadata": {},
   "outputs": [
    {
     "name": "stdout",
     "output_type": "stream",
     "text": [
      "Both strings are anagrams.\n"
     ]
    }
   ],
   "source": [
    "str8 = \"A Gentleman\"\n",
    "str9 = \"Elegant Man\"\n",
    "\n",
    "# Remove spaces and convert strings to lowercase for comparison\n",
    "str8 = str8.replace(\" \", \"\").lower()\n",
    "str9 = str9.replace(\" \", \"\").lower()\n",
    "\n",
    "# Check if the lengths of both strings are equal\n",
    "if len(str8) != len(str9):\n",
    "    print(\"Nope\")\n",
    "\n",
    "for char in str8:\n",
    "    # Check if each character in str8 has the same count in str9\n",
    "    if str8.count(char) != str9.count(char):\n",
    "        print(\"Nope\")\n",
    "\n",
    "print(\"Both strings are anagrams.\")    "
   ]
  },
  {
   "cell_type": "markdown",
   "id": "dad3d1a4-d16b-4d71-b76f-da9ce72b1aec",
   "metadata": {},
   "source": [
    "#### 42. Encode a string using a Caesar cipher."
   ]
  },
  {
   "cell_type": "code",
   "execution_count": 17,
   "id": "5a295516-49f9-43c4-9bcc-b06631a733f2",
   "metadata": {},
   "outputs": [
    {
     "name": "stdout",
     "output_type": "stream",
     "text": [
      "Khoor, Zruog!\n"
     ]
    }
   ],
   "source": [
    "'''\n",
    "The Caesar Cipher technique is one of the earliest and simplest methods of encryption technique. \n",
    "It’s simply a type of substitution cipher, i.e., each letter of a given text is replaced by a letter with a fixed number of positions down the alphabet.\n",
    "'''\n",
    "\n",
    "text = \"Hello, World!\"\n",
    "shift_index = 3\n",
    "alpha = \"abcdefghijklmnopqrstuvwxyz\"\n",
    "encrypted_text = \"\"\n",
    "\n",
    "for char in text:\n",
    "    if char.isalpha():\n",
    "        char_lower = char.lower()\n",
    "        shifted_index = (alpha.index(char_lower) + shift_index) % 26\n",
    "        encrypted_char = alpha[shifted_index]\n",
    "        if char.isupper():\n",
    "            encrypted_text += encrypted_char.upper()  \n",
    "        else: \n",
    "            encrypted_text += encrypted_char\n",
    "    else:\n",
    "        encrypted_text += char\n",
    "\n",
    "print(encrypted_text)"
   ]
  },
  {
   "cell_type": "markdown",
   "id": "6e2eaa33-bff6-4ade-8709-4b9cd50b0682",
   "metadata": {},
   "source": [
    "#### 43. Decode a Caesar cipher encoded string."
   ]
  },
  {
   "cell_type": "code",
   "execution_count": 18,
   "id": "e300673e-d468-4b68-b1b2-5a130d55c4e3",
   "metadata": {},
   "outputs": [
    {
     "name": "stdout",
     "output_type": "stream",
     "text": [
      "Hello, World!\n"
     ]
    }
   ],
   "source": [
    "encr = \"Khoor, Zruog!\"\n",
    "decoded = \"\"\n",
    "\n",
    "for char in encr:\n",
    "    if char.isalpha():\n",
    "        char_lower = char.lower()\n",
    "        shifted_index = (alpha.index(char_lower) - shift_index) % 26\n",
    "        decoded_char = alpha[shifted_index]\n",
    "        if char.isupper():\n",
    "            decoded += decoded_char.upper()  \n",
    "        else: \n",
    "            decoded += decoded_char\n",
    "    else:\n",
    "        decoded += char\n",
    "\n",
    "print(decoded)"
   ]
  },
  {
   "cell_type": "markdown",
   "id": "c0d14d70-42da-421e-8efa-9152af151ad9",
   "metadata": {},
   "source": [
    "#### 44. Find the most frequent word in a string."
   ]
  },
  {
   "cell_type": "code",
   "execution_count": 26,
   "id": "81cb369a-82e9-4605-9187-4d16a9a09b8c",
   "metadata": {},
   "outputs": [
    {
     "name": "stdout",
     "output_type": "stream",
     "text": [
      "Most frequent word in the string is the.\n"
     ]
    }
   ],
   "source": [
    "str10 = \"The words some and any are used when the speaker cannot specify or does not need to specify a number.\"\n",
    "\n",
    "str10 = str10.lower().replace(\".\", \"\").replace(\",\", \"\").replace(\"?\", \"\").replace(\"!\", \"\").replace(\"'\", \"\")\n",
    "\n",
    "words = str10.split()\n",
    "\n",
    "most_freq_w = \"\"\n",
    "max_count = 0\n",
    "\n",
    "for word in words:\n",
    "    count = words.count(word)\n",
    "    if count > max_count:\n",
    "        max_count = count\n",
    "        most_freq_w = word\n",
    "        \n",
    "print(f\"Most frequent word in the string is {most_freq_w}.\")        "
   ]
  },
  {
   "cell_type": "markdown",
   "id": "37d0e8dc-e078-42dc-999c-fc28366f1d23",
   "metadata": {},
   "source": [
    "#### 45. Find all unique words in a string."
   ]
  },
  {
   "cell_type": "code",
   "execution_count": 28,
   "id": "5c9e3528-cbd7-4691-828e-0a716433dde1",
   "metadata": {},
   "outputs": [
    {
     "name": "stdout",
     "output_type": "stream",
     "text": [
      "All unique word/s in a string: ['the', 'uncertainty', 'principle', 'of', 'quantum', 'physics', 'builds', 'earliest', 'foundations', 'for', 'cryptography', 'with', 'computers', 'future', 'being', 'expected', 'to', 'solve', 'discrete', 'logarithmic', 'problems', 'and', 'popularly', 'known', 'methods', 'such', 'as', 'aes', 'rsa', 'des', 'becomes', 'foreseen', 'solution']\n"
     ]
    }
   ],
   "source": [
    "str11 = \"The uncertainty principle of quantum physics builds the earliest foundations for quantum cryptography. With quantum computers of the future being expected to solve discrete logarithmic problems and the popularly known cryptography methods such as AES, RSA, DES, quantum cryptography becomes the foreseen solution.\"\n",
    "uwrd_lst = []\n",
    "d_lst = []\n",
    "\n",
    "str11 = str11.lower().replace(\".\", \"\").replace(\",\", \"\").replace(\"?\", \"\").replace(\"!\", \"\").replace(\"'\", \"\")\n",
    "\n",
    "words = str11.split()\n",
    "\n",
    "for word in words:\n",
    "    if word not in d_lst:\n",
    "        uwrd_lst.append(word)\n",
    "        d_lst.append(word)\n",
    "        \n",
    "print(f\"All unique word/s in a string: {uwrd_lst}\")        "
   ]
  },
  {
   "cell_type": "markdown",
   "id": "80c39ac7-a9fa-459b-8fda-bbd0ea190095",
   "metadata": {},
   "source": [
    "#### 46. Count the number of syllables in a string."
   ]
  },
  {
   "cell_type": "code",
   "execution_count": 32,
   "id": "a03b5cbd-cab3-4527-95a4-df1306314a26",
   "metadata": {},
   "outputs": [
    {
     "name": "stdout",
     "output_type": "stream",
     "text": [
      "'hello' has 2 syllables.\n",
      "'banana' has 3 syllables.\n",
      "'syllable' has 3 syllables.\n"
     ]
    }
   ],
   "source": [
    "import re\n",
    "\n",
    "def count_syllables(word):\n",
    "    # Count vowel groups using regular expression\n",
    "    vowel_groups = re.findall(r'[aeiouy]+', word, re.IGNORECASE)\n",
    "\n",
    "    return len(vowel_groups)\n",
    "\n",
    "# Example words\n",
    "word1 = \"hello\"\n",
    "word2 = \"banana\"\n",
    "word3 = \"syllable\"\n",
    "\n",
    "# Count syllables\n",
    "syllables1 = count_syllables(word1)\n",
    "syllables2 = count_syllables(word2)\n",
    "syllables3 = count_syllables(word3)\n",
    "\n",
    "# Print the results\n",
    "print(f\"'{word1}' has {syllables1} syllables.\")\n",
    "print(f\"'{word2}' has {syllables2} syllables.\")\n",
    "print(f\"'{word3}' has {syllables3} syllables.\")"
   ]
  },
  {
   "cell_type": "markdown",
   "id": "f751db56-bfb7-4734-ac9e-26edf7fc2c2a",
   "metadata": {},
   "source": [
    "#### 47. Check if a string contains any special characters."
   ]
  },
  {
   "cell_type": "code",
   "execution_count": 33,
   "id": "5a595a12-3334-4e60-8da4-1b64546d44e1",
   "metadata": {},
   "outputs": [
    {
     "name": "stdout",
     "output_type": "stream",
     "text": [
      "'Hello, world!' contains special characters: True\n",
      "'This is a test.' contains special characters: True\n",
      "'Special@Characters' contains special characters: True\n"
     ]
    }
   ],
   "source": [
    "import re\n",
    "\n",
    "def contains_special_characters(input_string):\n",
    "    # Define a regular expression pattern to match special characters\n",
    "    pattern = re.compile(r'[!@#$%^&*()_+{}\\[\\]:;<>,.?~\\\\/]')\n",
    "\n",
    "    # Use the search() method to find a match\n",
    "    match = pattern.search(input_string)\n",
    "\n",
    "    # Return True if a match is found, False otherwise\n",
    "    return bool(match)\n",
    "\n",
    "# Example strings\n",
    "string1 = \"Hello, world!\"\n",
    "string2 = \"This is a test.\"\n",
    "string3 = \"Special@Characters\"\n",
    "\n",
    "# Check if strings contain special characters\n",
    "result1 = contains_special_characters(string1)\n",
    "result2 = contains_special_characters(string2)\n",
    "result3 = contains_special_characters(string3)\n",
    "\n",
    "# Print the results\n",
    "print(f\"'{string1}' contains special characters:\", result1)\n",
    "print(f\"'{string2}' contains special characters:\", result2)\n",
    "print(f\"'{string3}' contains special characters:\", result3)"
   ]
  },
  {
   "cell_type": "markdown",
   "id": "5210887e-8012-4ef0-ab53-ea883111f774",
   "metadata": {},
   "source": [
    "#### 48. Remove the nth word from a string."
   ]
  },
  {
   "cell_type": "code",
   "execution_count": 34,
   "id": "d308d1ba-0089-4b82-96cb-70c1af50199b",
   "metadata": {},
   "outputs": [
    {
     "name": "stdout",
     "output_type": "stream",
     "text": [
      "Original string: This is an example sentence to test the function.\n",
      "Modified string: This is an sentence to test the function.\n",
      "Removed word: example\n"
     ]
    }
   ],
   "source": [
    "def remove_nth_word(input_string, n):\n",
    "    # Split the input string into words\n",
    "    words = input_string.split()\n",
    "\n",
    "    # Check if n is within a valid range\n",
    "    if n >= 1 and n <= len(words):\n",
    "        # Remove the nth word by excluding it from the words list\n",
    "        removed_word = words.pop(n - 1)\n",
    "\n",
    "        # Join the remaining words to form the modified string\n",
    "        modified_string = ' '.join(words)\n",
    "\n",
    "        return modified_string, removed_word\n",
    "    else:\n",
    "        return None, None\n",
    "\n",
    "# Example string and n value\n",
    "input_str = \"This is an example sentence to test the function.\"\n",
    "n_value = 4\n",
    "\n",
    "# Remove the nth word\n",
    "modified_str, removed_word = remove_nth_word(input_str, n_value)\n",
    "\n",
    "# Print the results\n",
    "print(\"Original string:\", input_str)\n",
    "\n",
    "if modified_str is not None:\n",
    "    print(\"Modified string:\", modified_str)\n",
    "    print(\"Removed word:\", removed_word)\n",
    "else:\n",
    "    print(\"Invalid n value.\")"
   ]
  },
  {
   "cell_type": "markdown",
   "id": "08f8b8fe-3cc2-4bcc-a7ec-9068a4d01c6f",
   "metadata": {},
   "source": [
    "#### 49. Insert a word at the nth position in a string."
   ]
  },
  {
   "cell_type": "code",
   "execution_count": 43,
   "id": "da9aa847-974e-411d-bc48-69d7fffa06d0",
   "metadata": {},
   "outputs": [
    {
     "name": "stdout",
     "output_type": "stream",
     "text": [
      "Original string: This is an example sentence to test the function.\n",
      "Modified string: This is an example hey sentence to test the function.\n",
      "Inserted word: hey\n"
     ]
    }
   ],
   "source": [
    "def insert_nth_word(input_string, n, iw):\n",
    "    # Split the input string into words\n",
    "    words = input_string.split()\n",
    "\n",
    "    # Check if n is within a valid range\n",
    "    if n >= 1 and n <= len(words):\n",
    "        # Insert the nth word by include it in the words list\n",
    "        words.insert(n - 1, iw)\n",
    "\n",
    "        # Join the remaining words to form the modified string\n",
    "        modified_string = ' '.join(words)\n",
    "\n",
    "        return modified_string\n",
    "    else:\n",
    "        return None, None\n",
    "\n",
    "\n",
    "# Example string and n value\n",
    "input_str = \"This is an example sentence to test the function.\"\n",
    "n_value = 5\n",
    "input_word = \"hey\"\n",
    "\n",
    "# Insert the nth word\n",
    "modified_str = insert_nth_word(input_str, n_value, input_word)\n",
    "\n",
    "# Print the results\n",
    "print(\"Original string:\", input_str)\n",
    "\n",
    "if modified_str is not None:\n",
    "    print(\"Modified string:\", modified_str)\n",
    "    print(\"Inserted word:\", input_word)\n",
    "else:\n",
    "    print(\"Invalid n value.\")"
   ]
  },
  {
   "cell_type": "markdown",
   "id": "f9eae9bd-1489-4923-b1ea-219ba877aff7",
   "metadata": {},
   "source": [
    "#### 50. Convert a CSV string to a list of lists."
   ]
  },
  {
   "cell_type": "code",
   "execution_count": 44,
   "id": "674254c1-4c3b-4362-bb05-fe53fde42511",
   "metadata": {},
   "outputs": [
    {
     "name": "stdout",
     "output_type": "stream",
     "text": [
      "['Name', ' Age', ' Country']\n",
      "['John', ' 25', ' USA']\n",
      "['Alice', ' 30', ' Canada']\n",
      "['Bob', ' 22', ' UK']\n"
     ]
    }
   ],
   "source": [
    "def csv_string_to_list(csv_string):\n",
    "    # Split the CSV string into lines\n",
    "    lines = csv_string.split('\\n')\n",
    "\n",
    "    # Initialize an empty list to store the result\n",
    "    result = []\n",
    "\n",
    "    for line in lines:\n",
    "        # Split each line into fields using comma as the delimiter\n",
    "        fields = line.split(',')\n",
    "\n",
    "        # Append the fields to the result list as a row\n",
    "        result.append(fields)\n",
    "\n",
    "    return result\n",
    "\n",
    "# Example CSV string\n",
    "csv_data = \"Name, Age, Country\\nJohn, 25, USA\\nAlice, 30, Canada\\nBob, 22, UK\"\n",
    "\n",
    "# Convert CSV string to a list of lists\n",
    "list_of_lists = csv_string_to_list(csv_data)\n",
    "\n",
    "# Print the result\n",
    "for row in list_of_lists:\n",
    "    print(row)"
   ]
  },
  {
   "cell_type": "markdown",
   "id": "ac62674a-694c-4b56-915b-ae0dadcdf18c",
   "metadata": {},
   "source": [
    "# List Based Practice Problem :"
   ]
  },
  {
   "cell_type": "markdown",
   "id": "aa131a3b-36d6-4aaa-af49-84381587970d",
   "metadata": {},
   "source": [
    "#### 1. Create a list with integers from 1 to 10."
   ]
  },
  {
   "cell_type": "code",
   "execution_count": 46,
   "id": "a0333e58-2dac-48d7-82a4-39493713f853",
   "metadata": {},
   "outputs": [
    {
     "name": "stdout",
     "output_type": "stream",
     "text": [
      "[1, 2, 3, 4, 5, 6, 7, 8, 9, 10]\n"
     ]
    }
   ],
   "source": [
    "lst1 = []\n",
    "\n",
    "for i in range(1, 11):\n",
    "    lst1.append(i)\n",
    "    \n",
    "print(lst1)    "
   ]
  },
  {
   "cell_type": "markdown",
   "id": "1d0b9e8b-a0a5-47bf-9a73-22cbadeb2ae8",
   "metadata": {},
   "source": [
    "#### 2. Find the length of a list without using the `len()` function."
   ]
  },
  {
   "cell_type": "code",
   "execution_count": 47,
   "id": "99cc0749-7abf-4e36-a9a4-50270aae9d1e",
   "metadata": {},
   "outputs": [
    {
     "name": "stdout",
     "output_type": "stream",
     "text": [
      "Length of the list is 10\n"
     ]
    }
   ],
   "source": [
    "cnt = 0\n",
    "\n",
    "for i in lst1:\n",
    "    cnt += 1\n",
    "    \n",
    "print(f\"Length of the list is {cnt}\")    "
   ]
  },
  {
   "cell_type": "markdown",
   "id": "ad8f4dbc-b112-401f-bce4-a94eab322aac",
   "metadata": {},
   "source": [
    "#### 3. Append an element to the end of a list."
   ]
  },
  {
   "cell_type": "code",
   "execution_count": 50,
   "id": "56c06747-ec9f-4136-8dd3-f292dbff11c0",
   "metadata": {},
   "outputs": [
    {
     "name": "stdout",
     "output_type": "stream",
     "text": [
      "[1, 2, 3, 14]\n"
     ]
    }
   ],
   "source": [
    "lst2 = [1, 2, 3]\n",
    "\n",
    "lst2.append(14)\n",
    "print(lst2)"
   ]
  },
  {
   "cell_type": "markdown",
   "id": "eb0da632-8642-49ac-b25b-c246af300347",
   "metadata": {},
   "source": [
    "#### 4. Insert an element at a specific index in a list."
   ]
  },
  {
   "cell_type": "code",
   "execution_count": 51,
   "id": "3d8c8eb7-3d7b-44c0-874f-78d27f5e119e",
   "metadata": {},
   "outputs": [
    {
     "name": "stdout",
     "output_type": "stream",
     "text": [
      "[1, 88, 2, 3, 14]\n"
     ]
    }
   ],
   "source": [
    "lst2.insert(1, 88)\n",
    "print(lst2)"
   ]
  },
  {
   "cell_type": "markdown",
   "id": "a86053c2-ea3f-4519-b38e-7a10e05e0390",
   "metadata": {},
   "source": [
    "#### 5. Remove an element from a list by its value."
   ]
  },
  {
   "cell_type": "code",
   "execution_count": 52,
   "id": "a4ee8c9f-bdf0-43fc-932a-586bbf9d7b45",
   "metadata": {},
   "outputs": [
    {
     "name": "stdout",
     "output_type": "stream",
     "text": [
      "[1, 88, 2, 14]\n"
     ]
    }
   ],
   "source": [
    "lst2.remove(3)\n",
    "print(lst2)"
   ]
  },
  {
   "cell_type": "markdown",
   "id": "c0f6a1d6-12f0-4957-9aa5-6478571885c2",
   "metadata": {},
   "source": [
    "#### 6. Remove an element from a list by its index."
   ]
  },
  {
   "cell_type": "code",
   "execution_count": 53,
   "id": "973e7122-9832-4c9e-ac80-6d132a6fe866",
   "metadata": {},
   "outputs": [
    {
     "name": "stdout",
     "output_type": "stream",
     "text": [
      "[1, 88, 14]\n"
     ]
    }
   ],
   "source": [
    "lst2.pop(2)\n",
    "print(lst2)"
   ]
  },
  {
   "cell_type": "markdown",
   "id": "eb4ca45e-e7f9-44ed-b2e1-79baf3068c78",
   "metadata": {},
   "source": [
    "#### 7. Check if an element exists in a list."
   ]
  },
  {
   "cell_type": "code",
   "execution_count": 56,
   "id": "c8affc3e-a377-4bb3-800d-eba3ba4592d1",
   "metadata": {},
   "outputs": [
    {
     "name": "stdout",
     "output_type": "stream",
     "text": [
      "The element 5 exists in the list.\n"
     ]
    }
   ],
   "source": [
    "def element_exists(element, lst):\n",
    "    return element in lst\n",
    "\n",
    "# Test the function\n",
    "my_list = [1, 3, 5, 7, 9]\n",
    "element_to_check = 5\n",
    "\n",
    "if element_exists(element_to_check, my_list):\n",
    "    print(f\"The element {element_to_check} exists in the list.\")\n",
    "else:\n",
    "    print(f\"The element {element_to_check} does not exist in the list.\")\n"
   ]
  },
  {
   "cell_type": "markdown",
   "id": "9f71d7b4-ce6a-48a1-8fae-97369ef048d3",
   "metadata": {},
   "source": [
    "#### 8. Find the index of the first occurrence of an element in a list."
   ]
  },
  {
   "cell_type": "code",
   "execution_count": 57,
   "id": "502100fa-3838-4660-bb5d-8317d34e5adc",
   "metadata": {},
   "outputs": [
    {
     "name": "stdout",
     "output_type": "stream",
     "text": [
      "4\n"
     ]
    }
   ],
   "source": [
    "print(my_list.index(9))"
   ]
  },
  {
   "cell_type": "markdown",
   "id": "4152acdf-6661-47b0-ac7f-fab6ef6c8c82",
   "metadata": {},
   "source": [
    "#### 9. Count the occurrences of an element in a list."
   ]
  },
  {
   "cell_type": "code",
   "execution_count": 58,
   "id": "939e1a90-4418-4c0a-9764-cd8c90e8c5fa",
   "metadata": {},
   "outputs": [
    {
     "name": "stdout",
     "output_type": "stream",
     "text": [
      "2\n"
     ]
    }
   ],
   "source": [
    "str22 = \"Now you know how to form simple sentences in various verb tenses! Try writing your own simple sentence examples to help you remember this sentence structure.\"\n",
    "\n",
    "lst3 = str22.lower().split()\n",
    "\n",
    "print(lst3.count(\"you\"))\n",
    "                "
   ]
  },
  {
   "cell_type": "markdown",
   "id": "e6f46b98-b9d3-402a-ada3-9b5cdc6d1560",
   "metadata": {},
   "source": [
    "#### 10. Reverse the order of elements in a list."
   ]
  },
  {
   "cell_type": "code",
   "execution_count": 59,
   "id": "8b17381b-b4d9-45f4-b532-f2523596d2b1",
   "metadata": {},
   "outputs": [
    {
     "name": "stdout",
     "output_type": "stream",
     "text": [
      "['structure.', 'sentence', 'this', 'remember', 'you', 'help', 'to', 'examples', 'sentence', 'simple', 'own', 'your', 'writing', 'try', 'tenses!', 'verb', 'various', 'in', 'sentences', 'simple', 'form', 'to', 'how', 'know', 'you', 'now']\n"
     ]
    }
   ],
   "source": [
    "print(lst3[::-1])"
   ]
  },
  {
   "cell_type": "markdown",
   "id": "ae7c2cb3-a124-48b1-8a95-7db2803237ef",
   "metadata": {},
   "source": [
    "#### 11. Sort a list in ascending order."
   ]
  },
  {
   "cell_type": "code",
   "execution_count": 61,
   "id": "2f7dbc14-6d7c-42bf-b107-c0995cb2867a",
   "metadata": {},
   "outputs": [
    {
     "name": "stdout",
     "output_type": "stream",
     "text": [
      "[1, 2, 4, 5, 7, 9, 12, 23, 34, 44]\n"
     ]
    }
   ],
   "source": [
    "lst4 = [1, 44, 2, 4, 12, 34, 5, 7, 9, 23]\n",
    "lst4.sort()\n",
    "print(lst4)"
   ]
  },
  {
   "cell_type": "markdown",
   "id": "5da8d346-5a20-4741-843a-fb3b713295b5",
   "metadata": {},
   "source": [
    "#### 12. Sort a list in descending order."
   ]
  },
  {
   "cell_type": "code",
   "execution_count": 62,
   "id": "b99fd5de-0389-482d-9092-49e2ee25efa2",
   "metadata": {},
   "outputs": [
    {
     "name": "stdout",
     "output_type": "stream",
     "text": [
      "[44, 34, 23, 12, 9, 7, 5, 4, 2, 1]\n"
     ]
    }
   ],
   "source": [
    "lst4.sort(reverse = True)\n",
    "print(lst4)"
   ]
  },
  {
   "cell_type": "markdown",
   "id": "fd3be5ce-c140-4b8a-84a1-02062c145d71",
   "metadata": {},
   "source": [
    "#### 13. Create a list of even numbers from 1 to 20."
   ]
  },
  {
   "cell_type": "code",
   "execution_count": 64,
   "id": "e0a961a6-3db0-41f7-b371-4c80ba634577",
   "metadata": {},
   "outputs": [
    {
     "name": "stdout",
     "output_type": "stream",
     "text": [
      "[2, 4, 6, 8, 10, 12, 14, 16, 18, 20]\n"
     ]
    }
   ],
   "source": [
    "lst5 = []\n",
    "\n",
    "for i in range(1, 21):\n",
    "    if i % 2 == 0:\n",
    "        lst5.append(i)\n",
    "\n",
    "print(lst5)"
   ]
  },
  {
   "cell_type": "markdown",
   "id": "421186e7-86fb-4e90-a919-076e26a90656",
   "metadata": {},
   "source": [
    "#### 14. Create a list of odd numbers from 1 to 20."
   ]
  },
  {
   "cell_type": "code",
   "execution_count": 65,
   "id": "f75dc5fe-55cd-4be8-89dd-66e6b04fad2d",
   "metadata": {},
   "outputs": [
    {
     "name": "stdout",
     "output_type": "stream",
     "text": [
      "[1, 3, 5, 7, 9, 11, 13, 15, 17, 19]\n"
     ]
    }
   ],
   "source": [
    "lst5 = []\n",
    "\n",
    "for i in range(1, 21):\n",
    "    if i % 2 == 1:\n",
    "        lst5.append(i)\n",
    "\n",
    "print(lst5)"
   ]
  },
  {
   "cell_type": "markdown",
   "id": "6b64ff25-bb1a-4b6c-811a-df8422fdd009",
   "metadata": {},
   "source": [
    "#### 15. Find the sum of all elements in a list."
   ]
  },
  {
   "cell_type": "code",
   "execution_count": 66,
   "id": "c5458a5d-694d-4d47-b01b-4ed680953ff5",
   "metadata": {},
   "outputs": [
    {
     "name": "stdout",
     "output_type": "stream",
     "text": [
      "Sum of elements: 150\n"
     ]
    }
   ],
   "source": [
    "my_list = [10, 20, 30, 40, 50]\n",
    "\n",
    "# Calculate the sum of all elements in the list\n",
    "total_sum = sum(my_list)\n",
    "\n",
    "# Print the sum\n",
    "print(\"Sum of elements:\", total_sum)"
   ]
  },
  {
   "cell_type": "markdown",
   "id": "983f68d8-9d4f-41e2-97d3-8f48d8dd45d4",
   "metadata": {},
   "source": [
    "#### 16. Find the maximum value in a list."
   ]
  },
  {
   "cell_type": "code",
   "execution_count": 67,
   "id": "014ddc76-0252-48bf-9e9d-409542692d4f",
   "metadata": {},
   "outputs": [
    {
     "name": "stdout",
     "output_type": "stream",
     "text": [
      "Maximum value: 50\n"
     ]
    }
   ],
   "source": [
    "max_value = max(my_list)\n",
    "\n",
    "# Print the maximum value\n",
    "print(\"Maximum value:\", max_value)"
   ]
  },
  {
   "cell_type": "markdown",
   "id": "70f30cb0-e0a7-4213-8551-127887d061ef",
   "metadata": {},
   "source": [
    "#### 17. Find the minimum value in a list."
   ]
  },
  {
   "cell_type": "code",
   "execution_count": 68,
   "id": "3997601f-81e8-41eb-a1ff-af820afda13d",
   "metadata": {},
   "outputs": [
    {
     "name": "stdout",
     "output_type": "stream",
     "text": [
      "Minimum value: 10\n"
     ]
    }
   ],
   "source": [
    "min_value = min(my_list)\n",
    "\n",
    "# Print the minimum value\n",
    "print(\"Minimum value:\", min_value)"
   ]
  },
  {
   "cell_type": "markdown",
   "id": "ff1ee84f-3c0d-4972-8d0f-9226a4e1fafd",
   "metadata": {},
   "source": [
    "#### 18. Create a list of squares of numbers from 1 to 10."
   ]
  },
  {
   "cell_type": "code",
   "execution_count": 69,
   "id": "f0431048-e944-42e4-9f17-93914992cb09",
   "metadata": {},
   "outputs": [
    {
     "name": "stdout",
     "output_type": "stream",
     "text": [
      "[1, 4, 9, 16, 25, 36, 49, 64, 81, 100]\n"
     ]
    }
   ],
   "source": [
    "lst6 = []\n",
    "\n",
    "for i in range(1, 11):\n",
    "    lst6.append(i ** 2)\n",
    "\n",
    "print(lst6)"
   ]
  },
  {
   "cell_type": "markdown",
   "id": "f7ef3da4-8f0d-4e51-aba4-b7c2ab06f836",
   "metadata": {},
   "source": [
    "#### 19. Create a list of random numbers."
   ]
  },
  {
   "cell_type": "code",
   "execution_count": 75,
   "id": "ceb17a0c-400d-4b4a-87e8-9d7195f8b23c",
   "metadata": {},
   "outputs": [
    {
     "name": "stdout",
     "output_type": "stream",
     "text": [
      "[88, 2, 33, 41, 18, 15, 13, 0, 6, 35]\n"
     ]
    }
   ],
   "source": [
    "import random\n",
    "\n",
    "lst7 = []\n",
    "\n",
    "for i in range(10):\n",
    "    lst7.append(random.randrange(100))\n",
    "    \n",
    "print(lst7)    "
   ]
  },
  {
   "cell_type": "markdown",
   "id": "f7400043-7aae-4ebd-bffd-2d9908446172",
   "metadata": {},
   "source": [
    "#### 20. Remove duplicates from a list."
   ]
  },
  {
   "cell_type": "code",
   "execution_count": 76,
   "id": "36e556f9-99e1-4702-b0f8-896213b78d23",
   "metadata": {},
   "outputs": [
    {
     "name": "stdout",
     "output_type": "stream",
     "text": [
      "List without duplicates: [40, 10, 50, 20, 30]\n"
     ]
    }
   ],
   "source": [
    "my_list = [10, 20, 30, 20, 40, 10, 50, 30]\n",
    "\n",
    "# Remove duplicates by converting to a set and back to a list\n",
    "unique_list = list(set(my_list))\n",
    "\n",
    "# Print the list without duplicates\n",
    "print(\"List without duplicates:\", unique_list)"
   ]
  },
  {
   "cell_type": "markdown",
   "id": "edb2caff-35bc-40a2-895c-b2f46209797f",
   "metadata": {},
   "source": [
    "#### 21. Find the common elements between two lists."
   ]
  },
  {
   "cell_type": "code",
   "execution_count": 86,
   "id": "a2caa050-7a27-476f-8d57-91980bb6305f",
   "metadata": {},
   "outputs": [
    {
     "name": "stdout",
     "output_type": "stream",
     "text": [
      "[1, 4, 25, 36]\n"
     ]
    }
   ],
   "source": [
    "lst8 = [1, 4, 9, 16, 25, 36, 49, 64, 81, 100]\n",
    "lst9 = [1, 44, 78, 21, 25, 36, 45, 4, 10, 1030]\n",
    "\n",
    "lst10 = [i for i in lst8 if i in lst9]\n",
    "print(lst10)"
   ]
  },
  {
   "cell_type": "markdown",
   "id": "7a955f5a-11e4-4c41-b903-a789479dfa09",
   "metadata": {},
   "source": [
    "#### 22. Find the difference between two lists."
   ]
  },
  {
   "cell_type": "code",
   "execution_count": 87,
   "id": "ff86b3e3-cee6-4ab2-8b78-7e71981557b3",
   "metadata": {},
   "outputs": [
    {
     "name": "stdout",
     "output_type": "stream",
     "text": [
      "[9, 16, 49, 64, 81, 100]\n"
     ]
    }
   ],
   "source": [
    "lst10 = [i for i in lst8 if i not in lst9]\n",
    "print(lst10)"
   ]
  },
  {
   "cell_type": "markdown",
   "id": "b1ecdfc0-626f-4250-820f-18a72034f4e2",
   "metadata": {},
   "source": [
    "#### 23. Merge two lists."
   ]
  },
  {
   "cell_type": "code",
   "execution_count": 89,
   "id": "4baa3cb3-3b23-483e-bf10-ffe43eec36ac",
   "metadata": {},
   "outputs": [
    {
     "name": "stdout",
     "output_type": "stream",
     "text": [
      "[1, 4, 9, 16, 25, 36, 49, 64, 81, 100, 1, 44, 78, 21, 25, 36, 45, 4, 10, 1030]\n"
     ]
    }
   ],
   "source": [
    "lst8.extend(lst9)\n",
    "print(lst8)"
   ]
  },
  {
   "cell_type": "markdown",
   "id": "2fc1fd63-5f33-4bba-ab90-4b04f5f7215c",
   "metadata": {},
   "source": [
    "#### 24. Multiply all elements in a list by 2."
   ]
  },
  {
   "cell_type": "code",
   "execution_count": 1,
   "id": "f47b0033-42f5-40d8-b2ed-e3ef01902462",
   "metadata": {},
   "outputs": [
    {
     "name": "stdout",
     "output_type": "stream",
     "text": [
      "[20, 40, 60, 40, 80, 20, 100, 60]\n"
     ]
    }
   ],
   "source": [
    "lst11 = [10, 20, 30, 20, 40, 10, 50, 30]\n",
    "\n",
    "for i in range(len(lst11)):\n",
    "    lst11[i] *= 2\n",
    "    \n",
    "\n",
    "print(lst11)"
   ]
  },
  {
   "cell_type": "markdown",
   "id": "792c0c98-8623-41ac-886a-5acbfd651293",
   "metadata": {},
   "source": [
    "#### 25. Filter out all even numbers from a list."
   ]
  },
  {
   "cell_type": "code",
   "execution_count": 2,
   "id": "9481015a-b90d-485e-bfc5-2fc4efb93e99",
   "metadata": {},
   "outputs": [
    {
     "name": "stdout",
     "output_type": "stream",
     "text": [
      "[2, 4]\n"
     ]
    }
   ],
   "source": [
    "numbers = [1, 2, 3, 4, 5]\n",
    "\n",
    "# Get all even numbers using the filter function\n",
    "evens = filter(lambda x: x % 2 == 0, numbers)\n",
    "\n",
    "print(list(evens))"
   ]
  },
  {
   "cell_type": "markdown",
   "id": "271439c1-666f-4e7b-9d44-8d064f6dba81",
   "metadata": {},
   "source": [
    "#### 26. Convert a list of strings to a list of integers."
   ]
  },
  {
   "cell_type": "code",
   "execution_count": 4,
   "id": "9b30bd97-86a3-45ef-9c5f-489395542686",
   "metadata": {},
   "outputs": [
    {
     "name": "stdout",
     "output_type": "stream",
     "text": [
      "[12, 44, 78, 2]\n"
     ]
    }
   ],
   "source": [
    "lst12 = [\"12\", \"44\", \"78\", \"2\"]\n",
    "\n",
    "for i in range(len(lst12)):\n",
    "    lst12[i] = int(lst12[i])\n",
    "    \n",
    "print(lst12)"
   ]
  },
  {
   "cell_type": "markdown",
   "id": "4e78a622-dbc9-4238-a415-a6495db5f67e",
   "metadata": {},
   "source": [
    "#### 27. Convert a list of integers to a list of strings."
   ]
  },
  {
   "cell_type": "code",
   "execution_count": 8,
   "id": "f7af3ca2-a1d9-4768-abc5-f459b4f85ec4",
   "metadata": {},
   "outputs": [
    {
     "name": "stdout",
     "output_type": "stream",
     "text": [
      "['121', '4234', '748', '82']\n"
     ]
    }
   ],
   "source": [
    "lst13 = [121, 4234, 748, 82]\n",
    "\n",
    "lst13 = map(lambda x: str(x), lst13)\n",
    "    \n",
    "print(list(lst13))"
   ]
  },
  {
   "cell_type": "markdown",
   "id": "e919dba0-b052-4859-ab0d-abfe7769a628",
   "metadata": {},
   "source": [
    "#### 28. Flatten a nested list."
   ]
  },
  {
   "cell_type": "code",
   "execution_count": 11,
   "id": "26ae275d-92ed-47e6-b391-c59bc2f47459",
   "metadata": {},
   "outputs": [
    {
     "name": "stdout",
     "output_type": "stream",
     "text": [
      "[1, 2, 3, 4, 5, 6, 7, 8, 9]\n"
     ]
    }
   ],
   "source": [
    "nested_list = [[1, 2, 3], [4, 5], [6, 7, 8, 9]]\n",
    "flattened = []\n",
    "\n",
    "for i in nested_list:\n",
    "    flattened.extend(i)\n",
    "    \n",
    "print(flattened)"
   ]
  },
  {
   "cell_type": "markdown",
   "id": "d003dcb6-45d2-4416-b003-aaf6602267e7",
   "metadata": {},
   "source": [
    "#### 29. Create a list of the first 10 Fibonacci numbers."
   ]
  },
  {
   "cell_type": "code",
   "execution_count": 14,
   "id": "4ffc5309-d4d8-4e0a-ba21-6cf7249a8b9f",
   "metadata": {},
   "outputs": [
    {
     "name": "stdout",
     "output_type": "stream",
     "text": [
      "[0, 1, 1, 2, 3, 5, 8, 13, 21, 34]\n"
     ]
    }
   ],
   "source": [
    "def fibonacci(n):\n",
    "    if n <= 1:\n",
    "        return n\n",
    "    else:\n",
    "        return fibonacci(n - 1) + fibonacci(n - 2)\n",
    "\n",
    "fibo = []\n",
    "terms = 10\n",
    "for i in range(terms):\n",
    "    fibo.append(fibonacci(i))\n",
    "    \n",
    "print(fibo)"
   ]
  },
  {
   "cell_type": "markdown",
   "id": "e02670f7-533a-4b4e-901a-404674550016",
   "metadata": {},
   "source": [
    "#### 30. Check if a list is sorted."
   ]
  },
  {
   "cell_type": "code",
   "execution_count": 16,
   "id": "1bf527fc-a9f4-4995-8059-92344ec985fe",
   "metadata": {},
   "outputs": [
    {
     "name": "stdout",
     "output_type": "stream",
     "text": [
      "The list is sorted.\n",
      "The list is not sorted.\n"
     ]
    }
   ],
   "source": [
    "def is_sorted(lst14):\n",
    "    for i in range(len(lst14) - 1):\n",
    "        if lst14[i] > lst14[i + 1]:\n",
    "            return False\n",
    "    return True\n",
    "\n",
    "sorted_list = [1, 2, 3, 4, 5]\n",
    "unsorted_list = [3, 1, 5, 2, 4]\n",
    "\n",
    "if is_sorted(sorted_list):\n",
    "    print(\"The list is sorted.\")\n",
    "else:\n",
    "    print(\"The list is not sorted.\")\n",
    "\n",
    "if is_sorted(unsorted_list):\n",
    "    print(\"The list is sorted.\")\n",
    "else:\n",
    "    print(\"The list is not sorted.\")\n"
   ]
  },
  {
   "cell_type": "markdown",
   "id": "bdc7eab5-0b54-49c7-ad87-d2c56a4afd35",
   "metadata": {},
   "source": [
    "#### 31. Rotate a list to the left by `n` positions."
   ]
  },
  {
   "cell_type": "code",
   "execution_count": 17,
   "id": "64477819-636d-432a-a2b6-5409d3bfe215",
   "metadata": {},
   "outputs": [
    {
     "name": "stdout",
     "output_type": "stream",
     "text": [
      "List rotated to the left by 2 positions: [3, 4, 5, 1, 2]\n"
     ]
    }
   ],
   "source": [
    "def rotate_left(lst, n):\n",
    "    n = n % len(lst)  # To handle cases where n is larger than the list length\n",
    "    return lst[n:] + lst[:n]\n",
    "\n",
    "my_list = [1, 2, 3, 4, 5]\n",
    "positions_to_rotate = 2\n",
    "\n",
    "rotated_list = rotate_left(my_list, positions_to_rotate)\n",
    "print(f\"List rotated to the left by {positions_to_rotate} positions: {rotated_list}\")\n"
   ]
  },
  {
   "cell_type": "markdown",
   "id": "fb5e9df4-1c8e-4806-969c-5f089c6fdf4d",
   "metadata": {},
   "source": [
    "#### 32. Rotate a list to the right by `n` positions."
   ]
  },
  {
   "cell_type": "code",
   "execution_count": null,
   "id": "1d81f165-b17d-40c9-b0e1-98dd2cac4903",
   "metadata": {},
   "outputs": [
    {
     "name": "stdout",
     "output_type": "stream",
     "text": [
      "List rotated to the right by 2 positions: [4, 5, 1, 2, 3]\n"
     ]
    }
   ],
   "source": [
    "def rotate_right(lst, n):\n",
    "    n = n % len(lst)  \n",
    "    return lst[-n:] + lst[:-n]\n",
    "\n",
    "my_list = [1, 2, 3, 4, 5]\n",
    "positions_to_rotate = 2\n",
    "\n",
    "rotated_list = rotate_right(my_list, positions_to_rotate)\n",
    "print(f\"List rotated to the right by {positions_to_rotate} positions: {rotated_list}\")\n"
   ]
  },
  {
   "cell_type": "markdown",
   "id": "51b82b21-c40e-490c-8a1f-27758a260dc0",
   "metadata": {},
   "source": [
    "#### 33. Create a list of prime numbers up to 50."
   ]
  },
  {
   "cell_type": "code",
   "execution_count": 24,
   "id": "c021fe4d-fdcb-4b9f-8a48-8f27b776a66a",
   "metadata": {},
   "outputs": [
    {
     "name": "stdout",
     "output_type": "stream",
     "text": [
      "[2, 3, 5, 7, 11, 13, 17, 19, 23, 29, 31, 37, 41, 43, 47]\n"
     ]
    }
   ],
   "source": [
    "prime_list = []\n",
    "\n",
    "for i in range(50):\n",
    "    if i == 2 or i == 3 or i == 5 or i == 7:\n",
    "        prime_list.append(i)\n",
    "    elif i > 2:\n",
    "        if i % 2 == 1 and i % 3 != 0 and i % 5 != 0 and i % 7 != 0:\n",
    "            prime_list.append(i) \n",
    "            \n",
    "print(prime_list)"
   ]
  },
  {
   "cell_type": "markdown",
   "id": "fccdf165-3582-471b-8854-9dab6e6ec56a",
   "metadata": {},
   "source": [
    "#### 34. Split a list into chunks of size `n`."
   ]
  },
  {
   "cell_type": "code",
   "execution_count": 25,
   "id": "722f871d-dd29-4a17-b0e5-87233d59c704",
   "metadata": {},
   "outputs": [
    {
     "name": "stdout",
     "output_type": "stream",
     "text": [
      "List splitted into chunks of size 3: [[1, 2, 3], [4, 5, 6], [7, 8, 9], [10]]\n"
     ]
    }
   ],
   "source": [
    "def chunk_list(lst, n):\n",
    "    return [lst[i:i + n] for i in range(0, len(lst), n)]\n",
    "\n",
    "my_list = [1, 2, 3, 4, 5, 6, 7, 8, 9, 10]\n",
    "chunk_size = 3\n",
    "\n",
    "result = chunk_list(my_list, chunk_size)\n",
    "print(f\"List splitted into chunks of size {chunk_size}: {result}\")\n"
   ]
  },
  {
   "cell_type": "markdown",
   "id": "822c3014-31b0-4d95-9ea9-8e7766337430",
   "metadata": {},
   "source": [
    "#### 35. Find the second largest number in a list."
   ]
  },
  {
   "cell_type": "code",
   "execution_count": 28,
   "id": "966c0c51-bb58-4cd0-b4fc-3a1810c39eff",
   "metadata": {},
   "outputs": [
    {
     "name": "stdout",
     "output_type": "stream",
     "text": [
      "The second largest number in the list is: 10\n"
     ]
    }
   ],
   "source": [
    "def second_largest(lst):\n",
    "    unique_nums = list(set(lst))  # Remove duplicates from the list\n",
    "    if len(unique_nums) < 2:\n",
    "        return \"List doesn't have a second largest element.\"\n",
    "    \n",
    "    unique_nums.sort(reverse=True)\n",
    "    return unique_nums[1]\n",
    "\n",
    "my_list = [10, 5, 7, 3, 8, 5, 10, 15, 2, 7]\n",
    "result = second_largest(my_list)\n",
    "print(f\"The second largest number in the list is: {result}\")\n"
   ]
  },
  {
   "cell_type": "markdown",
   "id": "655e7dd2-10ab-4a59-8b6b-47741e64b14a",
   "metadata": {},
   "source": [
    "#### 36. Replace every element in a list with its square."
   ]
  },
  {
   "cell_type": "code",
   "execution_count": 2,
   "id": "b259ba84-b80b-4021-aebf-f61f1ab7527b",
   "metadata": {},
   "outputs": [
    {
     "name": "stdout",
     "output_type": "stream",
     "text": [
      "[100, 25, 49, 9, 64, 25, 100, 225, 4, 49]\n"
     ]
    }
   ],
   "source": [
    "my_list = [10, 5, 7, 3, 8, 5, 10, 15, 2, 7]\n",
    "\n",
    "my_list = [my_list[i] ** 2 for i in range(len(my_list))]\n",
    "print(my_list)"
   ]
  },
  {
   "cell_type": "markdown",
   "id": "a3942487-ea6f-437e-828c-1889d93da843",
   "metadata": {},
   "source": [
    "#### 37. Convert a list to a dictionary where list elements become keys and their indices become values."
   ]
  },
  {
   "cell_type": "code",
   "execution_count": 5,
   "id": "e07331c6-e166-4d25-908e-15eee0da9eab",
   "metadata": {},
   "outputs": [
    {
     "name": "stdout",
     "output_type": "stream",
     "text": [
      "{'apple': 0, 'banana': 1, 'orange': 2, 'grape': 3}\n"
     ]
    }
   ],
   "source": [
    "def list_to_dict(lst):\n",
    "    return {value: index for index, value in enumerate(lst)}\n",
    "\n",
    "my_list = ['apple', 'banana', 'orange', 'grape']\n",
    "result = list_to_dict(my_list)\n",
    "print(result)\n"
   ]
  },
  {
   "cell_type": "markdown",
   "id": "a9a755ce-94b3-4d6a-b245-2836be1cce3a",
   "metadata": {},
   "source": [
    "#### 38. Shuffle the elements of a list randomly."
   ]
  },
  {
   "cell_type": "code",
   "execution_count": 6,
   "id": "a32e64cd-fafc-42df-bdf2-345509a339c3",
   "metadata": {},
   "outputs": [
    {
     "name": "stdout",
     "output_type": "stream",
     "text": [
      "Shuffled list: [1, 3, 4, 5, 2]\n"
     ]
    }
   ],
   "source": [
    "import random\n",
    "\n",
    "def shuffle_list(lst):\n",
    "    shuffled = lst[:]  # Create a copy of the original list to avoid modifying it\n",
    "    random.shuffle(shuffled)\n",
    "    return shuffled\n",
    "\n",
    "my_list = [1, 2, 3, 4, 5]\n",
    "shuffled_list = shuffle_list(my_list)\n",
    "print(\"Shuffled list:\", shuffled_list)\n"
   ]
  },
  {
   "cell_type": "markdown",
   "id": "3cb0cdf7-819e-42ca-8780-85b9c652b71b",
   "metadata": {},
   "source": [
    "#### 39. Create a list of the first 10 factorial numbers."
   ]
  },
  {
   "cell_type": "code",
   "execution_count": 7,
   "id": "10bbe36e-d4d6-4903-83ed-5b748c91503c",
   "metadata": {},
   "outputs": [
    {
     "name": "stdout",
     "output_type": "stream",
     "text": [
      "List of the first 10 factorial numbers:\n",
      "[1, 1, 2, 6, 24, 120, 720, 5040, 40320, 362880]\n"
     ]
    }
   ],
   "source": [
    "def factorial(num):\n",
    "    if (num == 1 or num == 0):\n",
    "        return 1\n",
    "    else:\n",
    "        return (num * factorial(num - 1))\n",
    "    \n",
    "# Calculate the first 10 factorial numbers\n",
    "factorial_list = [factorial(i) for i in range(10)]\n",
    "\n",
    "print(\"List of the first 10 factorial numbers:\")\n",
    "print(factorial_list)"
   ]
  },
  {
   "cell_type": "markdown",
   "id": "01e839d5-dfaf-411f-b3e2-d04477a2b910",
   "metadata": {},
   "source": [
    "#### 40. Check if two lists have at least one element in common."
   ]
  },
  {
   "cell_type": "code",
   "execution_count": 1,
   "id": "bfdf7cc6-7b30-496e-985f-05f7abe52e62",
   "metadata": {},
   "outputs": [
    {
     "name": "stdout",
     "output_type": "stream",
     "text": [
      "At least one element is common in both lists\n"
     ]
    }
   ],
   "source": [
    "lst22 = [1, 3, 4, 5, 2]\n",
    "lst33 = [10, 23, 4, 51, 22]\n",
    "\n",
    "lst44 = [x for x in lst22 if x in lst33]\n",
    "\n",
    "if len(lst44) >= 1:\n",
    "    print(\"At least one element is common in both lists\")"
   ]
  },
  {
   "cell_type": "markdown",
   "id": "40f7144e-a3e6-4040-9fc8-612b9538ea3d",
   "metadata": {},
   "source": [
    "#### 41. Remove all elements from a list."
   ]
  },
  {
   "cell_type": "code",
   "execution_count": 2,
   "id": "529c9e73-2bf8-40b3-86f0-8aeb57d9186a",
   "metadata": {},
   "outputs": [
    {
     "name": "stdout",
     "output_type": "stream",
     "text": [
      "[]\n"
     ]
    }
   ],
   "source": [
    "lst34 = [10, 23, 4, 51, 22]\n",
    "lst34.clear()\n",
    "\n",
    "print(lst34)"
   ]
  },
  {
   "cell_type": "markdown",
   "id": "2ec09063-6ec3-4590-a7de-27b7c66ee657",
   "metadata": {},
   "source": [
    "#### 42. Replace negative numbers in a list with 0."
   ]
  },
  {
   "cell_type": "code",
   "execution_count": 5,
   "id": "276a6d2d-bf10-4c5b-86ee-62007ff9fd18",
   "metadata": {},
   "outputs": [
    {
     "name": "stdout",
     "output_type": "stream",
     "text": [
      "[0, 23, 0, 51, 0]\n"
     ]
    }
   ],
   "source": [
    "lst35 = [-10, 23, -4, 51, -22]\n",
    "\n",
    "lst35 = [0 if x < 0 else x for x in lst35]\n",
    "\n",
    "print(lst35)"
   ]
  },
  {
   "cell_type": "markdown",
   "id": "1737ca39-04a0-4b93-872d-93bb250a42d5",
   "metadata": {},
   "source": [
    "#### 43. Convert a string into a list of words."
   ]
  },
  {
   "cell_type": "code",
   "execution_count": 6,
   "id": "5bd8cba6-cbeb-49fc-90c4-267ff1491f98",
   "metadata": {},
   "outputs": [
    {
     "name": "stdout",
     "output_type": "stream",
     "text": [
      "['hello', 'world']\n"
     ]
    }
   ],
   "source": [
    "vc = \"hello world\"\n",
    "\n",
    "vc_lst = vc.split()\n",
    "print(vc_lst)"
   ]
  },
  {
   "cell_type": "markdown",
   "id": "6c6a7254-3ad8-4737-8698-785280118667",
   "metadata": {},
   "source": [
    "#### 44. Convert a list of words into a string."
   ]
  },
  {
   "cell_type": "code",
   "execution_count": 7,
   "id": "f5368f95-8201-4110-9dea-ae120796f017",
   "metadata": {},
   "outputs": [
    {
     "name": "stdout",
     "output_type": "stream",
     "text": [
      "hello world\n"
     ]
    }
   ],
   "source": [
    "lst36 = ['hello', 'world']\n",
    "\n",
    "str0 = \" \".join(lst36)\n",
    "\n",
    "print(str0)"
   ]
  },
  {
   "cell_type": "markdown",
   "id": "dadb9d5c-a59c-4163-adca-26f5db5615b2",
   "metadata": {},
   "source": [
    "#### 45. Create a list of the first `n` powers of 2."
   ]
  },
  {
   "cell_type": "code",
   "execution_count": 10,
   "id": "574394d4-de75-49a2-b2c3-6993fe77a2ac",
   "metadata": {},
   "outputs": [
    {
     "name": "stdout",
     "output_type": "stream",
     "text": [
      "Pwer List: [1, 2, 4, 8, 16]\n"
     ]
    }
   ],
   "source": [
    "num = 5\n",
    "\n",
    "powr_lst = [2 ** i for i in range(num)]\n",
    "\n",
    "print(\"Pwer List:\", powr_lst)"
   ]
  },
  {
   "cell_type": "markdown",
   "id": "ca69622e-974b-4eff-af08-6e2599afcba9",
   "metadata": {},
   "source": [
    "#### 46. Find the longest string in a list of strings."
   ]
  },
  {
   "cell_type": "code",
   "execution_count": 23,
   "id": "b6ed55db-dc10-45b5-95ec-337f9ad7a458",
   "metadata": {},
   "outputs": [
    {
     "name": "stdout",
     "output_type": "stream",
     "text": [
      "Longest word in the string is 'split_sentence'.\n"
     ]
    }
   ],
   "source": [
    "lst40 = \"The time complexity of the split_sentence function is O(n), where n is the length of the input string. This is because the findall function performs a linear scan of the input string to find all the matches.\".split()\n",
    "\n",
    "lsc = 0\n",
    "\n",
    "for word in lst40:\n",
    "    cnt = len(word)\n",
    "    if cnt > lsc:\n",
    "        lsc = cnt  # longest str count\n",
    "        lw = word\n",
    "        \n",
    "print(f\"Longest word in the string is '{lw}'.\")\n",
    "    "
   ]
  },
  {
   "cell_type": "markdown",
   "id": "fbe145d2-fe68-4172-b370-e3a2defbec37",
   "metadata": {},
   "source": [
    "#### 47. Find the shortest string in a list of strings."
   ]
  },
  {
   "cell_type": "code",
   "execution_count": 24,
   "id": "6184655f-4c9f-409e-aef8-897c82bc4f48",
   "metadata": {},
   "outputs": [
    {
     "name": "stdout",
     "output_type": "stream",
     "text": [
      "Shortest word in the string is'n'.\n"
     ]
    }
   ],
   "source": [
    "ssc = len(lst40[0])\n",
    "\n",
    "for word in lst40[1:]:\n",
    "    cnt = len(word)\n",
    "    if cnt < ssc:\n",
    "        ssc = cnt  # shortest str count\n",
    "        lw = word\n",
    "        \n",
    "print(f\"Shortest word in the string is'{lw}'.\")\n",
    "    "
   ]
  },
  {
   "cell_type": "markdown",
   "id": "3a915357-f4bb-4d69-9620-001099a5bbe5",
   "metadata": {},
   "source": [
    "#### 48. Create a list of the first `n` triangular numbers."
   ]
  },
  {
   "cell_type": "code",
   "execution_count": 25,
   "id": "cb05e763-9fec-409d-909f-69642abad0b1",
   "metadata": {},
   "outputs": [
    {
     "name": "stdout",
     "output_type": "stream",
     "text": [
      "[1, 3, 6, 10, 15, 21, 28, 36]\n"
     ]
    }
   ],
   "source": [
    "n = 8\n",
    "\n",
    "tr = [i * (i + 1) // 2 for i in range(1, n + 1)]\n",
    "\n",
    "print(tr)"
   ]
  },
  {
   "cell_type": "markdown",
   "id": "029c3875-ea6e-4c45-ae11-49ce669ca21f",
   "metadata": {},
   "source": [
    "#### 49. Check if a list contains another list as a subsequence."
   ]
  },
  {
   "cell_type": "code",
   "execution_count": 26,
   "id": "46dbd3c0-1a39-4424-89cc-9f5b7860547f",
   "metadata": {},
   "outputs": [
    {
     "name": "stdout",
     "output_type": "stream",
     "text": [
      "Main list does not contain the subsequence.\n"
     ]
    }
   ],
   "source": [
    "# Function to check if a list contains another list as a subsequence\n",
    "def is_subsequence(subsequence, main_list):\n",
    "    subseq_index = 0  # Index for the subsequence elements\n",
    "    for element in main_list:\n",
    "        if element == subsequence[subseq_index]:\n",
    "            subseq_index += 1\n",
    "            if subseq_index == len(subsequence):\n",
    "                return True\n",
    "    return False\n",
    "\n",
    "# Example main list and subsequence\n",
    "main_list = [1, 2, 3, 4, 5, 6, 7, 8, 9, 10]\n",
    "subsequence = [3, 1, 8]\n",
    "\n",
    "# Check if the main list contains the subsequence\n",
    "if is_subsequence(subsequence, main_list):\n",
    "    print(\"Main list contains the subsequence.\")\n",
    "else:\n",
    "    print(\"Main list does not contain the subsequence.\")"
   ]
  },
  {
   "cell_type": "markdown",
   "id": "a17f8c2f-cbec-4810-ace0-cf5e38ce6fd6",
   "metadata": {},
   "source": [
    "#### 50. Swap two elements in a list by their indices."
   ]
  },
  {
   "cell_type": "code",
   "execution_count": 27,
   "id": "43476bee-63ca-4e0e-be20-67e5e96d23f4",
   "metadata": {},
   "outputs": [
    {
     "name": "stdout",
     "output_type": "stream",
     "text": [
      "[1, 3, 6, 36, 15, 21, 28, 10]\n"
     ]
    }
   ],
   "source": [
    "lst50 = [1, 3, 6, 10, 15, 21, 28, 36]\n",
    "\n",
    "lst50[3], lst50[7] = lst50[7], lst50[3]\n",
    "\n",
    "print(lst50)"
   ]
  },
  {
   "cell_type": "markdown",
   "id": "f42004d3-b3b0-4715-b846-0cc3ace1eb9f",
   "metadata": {},
   "source": [
    "# Tuple Based Practice Problem :"
   ]
  },
  {
   "cell_type": "markdown",
   "id": "f0f1c680-16af-4ab5-9606-89edd9d818f1",
   "metadata": {},
   "source": [
    "#### 1. Create a tuple with integers from 1 to 5."
   ]
  },
  {
   "cell_type": "code",
   "execution_count": 31,
   "id": "f2501b28-5f1a-49ae-83ca-e764d5d6dfc9",
   "metadata": {},
   "outputs": [
    {
     "name": "stdout",
     "output_type": "stream",
     "text": [
      "(1, 2, 3, 4, 5)\n"
     ]
    }
   ],
   "source": [
    "lst100 = [x for x in range(1, 6)]  # tuple is immutable so to add elements we first have to create a list then convert to tuple\n",
    "\n",
    "tup1 = tuple(lst100)\n",
    "\n",
    "print(tup1)"
   ]
  },
  {
   "cell_type": "markdown",
   "id": "f880c016-8428-458b-9e48-83ddf251eed5",
   "metadata": {},
   "source": [
    "#### 2. Access the third element of a tuple."
   ]
  },
  {
   "cell_type": "code",
   "execution_count": 33,
   "id": "f2808f45-9533-42f8-9309-90bb49497661",
   "metadata": {},
   "outputs": [
    {
     "name": "stdout",
     "output_type": "stream",
     "text": [
      "3\n"
     ]
    }
   ],
   "source": [
    "print(tup1[2])"
   ]
  },
  {
   "cell_type": "markdown",
   "id": "efc2f136-b795-42b9-8bd3-0ebe5be6e91e",
   "metadata": {},
   "source": [
    "#### 3. Find the length of a tuple without using the `len()` function."
   ]
  },
  {
   "cell_type": "code",
   "execution_count": 34,
   "id": "1e3baf8a-32af-4870-adec-659975e283c1",
   "metadata": {},
   "outputs": [
    {
     "name": "stdout",
     "output_type": "stream",
     "text": [
      "Length of tuple is 5\n"
     ]
    }
   ],
   "source": [
    "count = 0\n",
    "\n",
    "for i in tup1:\n",
    "    count += 1\n",
    "\n",
    "print(\"Length of tuple is\", count)"
   ]
  },
  {
   "cell_type": "markdown",
   "id": "b11333ea-0328-4613-af24-c3d601c1106b",
   "metadata": {},
   "source": [
    "#### 4. Count the occurrences of an element in a tuple."
   ]
  },
  {
   "cell_type": "code",
   "execution_count": 36,
   "id": "f5516dfc-89e6-4476-8d54-9d46ce0a1957",
   "metadata": {},
   "outputs": [
    {
     "name": "stdout",
     "output_type": "stream",
     "text": [
      "3\n"
     ]
    }
   ],
   "source": [
    "tup2 = (22, 45, 13, 70, 62, 44, 13, 22, 22)\n",
    "\n",
    "print(tup2.count(22))"
   ]
  },
  {
   "cell_type": "markdown",
   "id": "088b4edb-3328-4739-9af6-2c2d05c2bafd",
   "metadata": {},
   "source": [
    "#### 5. Find the index of the first occurrence of an element in a tuple."
   ]
  },
  {
   "cell_type": "code",
   "execution_count": 37,
   "id": "9ebbda6c-9d6b-4abd-bafc-3c400b768d83",
   "metadata": {},
   "outputs": [
    {
     "name": "stdout",
     "output_type": "stream",
     "text": [
      "4\n"
     ]
    }
   ],
   "source": [
    "print(tup2.index(62))"
   ]
  },
  {
   "cell_type": "markdown",
   "id": "b6898e9c-ea11-4754-b42a-b1c02479dcdd",
   "metadata": {},
   "source": [
    "#### 6. Check if an element exists in a tuple."
   ]
  },
  {
   "cell_type": "code",
   "execution_count": 38,
   "id": "84f2fbf2-4038-4502-812c-21512ce1cb83",
   "metadata": {},
   "outputs": [
    {
     "name": "stdout",
     "output_type": "stream",
     "text": [
      "Absent\n"
     ]
    }
   ],
   "source": [
    "if 100 in tup2:\n",
    "    print(\"Present\")\n",
    "else:\n",
    "    print(\"Absent\")"
   ]
  },
  {
   "cell_type": "markdown",
   "id": "84ec9896-71c9-40ba-b941-934a106348f3",
   "metadata": {},
   "source": [
    "#### 7. Convert a tuple to a list."
   ]
  },
  {
   "cell_type": "code",
   "execution_count": 39,
   "id": "6d81193a-5bdb-41d4-b169-cbc11a4139d3",
   "metadata": {},
   "outputs": [
    {
     "name": "stdout",
     "output_type": "stream",
     "text": [
      "[22, 45, 13, 70, 62, 44, 13, 22, 22]\n"
     ]
    }
   ],
   "source": [
    "lst102 = list(tup2)\n",
    "print(lst102)"
   ]
  },
  {
   "cell_type": "markdown",
   "id": "bd0352f1-79a1-4fa4-8425-2f58cd98782f",
   "metadata": {},
   "source": [
    "#### 8. Convert a list to a tuple."
   ]
  },
  {
   "cell_type": "code",
   "execution_count": 40,
   "id": "6ee721e5-b1b3-47f5-91ba-4e9af1092c3e",
   "metadata": {},
   "outputs": [
    {
     "name": "stdout",
     "output_type": "stream",
     "text": [
      "(22, 45, 13, 70, 62, 44, 13, 22, 22, 999)\n"
     ]
    }
   ],
   "source": [
    "lst103 = [22, 45, 13, 70, 62, 44, 13, 22, 22, 999]\n",
    "\n",
    "tup3 = tuple(lst103)\n",
    "print(tup3)"
   ]
  },
  {
   "cell_type": "markdown",
   "id": "038e9aa2-60fc-4256-a3ca-d8ae558689ad",
   "metadata": {},
   "source": [
    "#### 9. Unpack the elements of a tuple into variables."
   ]
  },
  {
   "cell_type": "code",
   "execution_count": 43,
   "id": "8cdf5348-3b43-4ada-b4df-699c8c77c5db",
   "metadata": {},
   "outputs": [
    {
     "name": "stdout",
     "output_type": "stream",
     "text": [
      "var1: 10\n",
      "var2: 20\n",
      "var3: 30\n"
     ]
    }
   ],
   "source": [
    "# Step 1: Create a tuple\n",
    "my_tuple = (10, 20, 30)\n",
    "\n",
    "# Step 2: Unpack the elements of the tuple into variables\n",
    "var1, var2, var3 = my_tuple\n",
    "\n",
    "# Step 3: Print the variables\n",
    "print(\"var1:\", var1)\n",
    "print(\"var2:\", var2)\n",
    "print(\"var3:\", var3)"
   ]
  },
  {
   "cell_type": "markdown",
   "id": "085584c5-4656-4f77-a098-6dd46fb41ac1",
   "metadata": {},
   "source": [
    "#### 10. Create a tuple of even numbers from 1 to 10."
   ]
  },
  {
   "cell_type": "code",
   "execution_count": 46,
   "id": "e96a95df-1a4d-41a3-90b0-ae850d6b6d7a",
   "metadata": {},
   "outputs": [
    {
     "name": "stdout",
     "output_type": "stream",
     "text": [
      "(2, 4, 6, 8, 10)\n"
     ]
    }
   ],
   "source": [
    "lst105 = []\n",
    "\n",
    "for i in range(1, 11):\n",
    "    if i % 2 == 0:\n",
    "        lst105.append(i)\n",
    "        \n",
    "tup5 = tuple(lst105)        \n",
    "print(tup5)"
   ]
  },
  {
   "cell_type": "markdown",
   "id": "706de680-e83e-4a00-a4cf-fd0e82a4a83f",
   "metadata": {},
   "source": [
    "#### 11. Create a tuple of odd numbers from 1 to 10."
   ]
  },
  {
   "cell_type": "code",
   "execution_count": 47,
   "id": "a7156838-eae3-4f71-973a-79827cec2f9d",
   "metadata": {},
   "outputs": [
    {
     "name": "stdout",
     "output_type": "stream",
     "text": [
      "(1, 3, 5, 7, 9)\n"
     ]
    }
   ],
   "source": [
    "lst106 = []\n",
    "\n",
    "for i in range(1, 11):\n",
    "    if i % 2 == 1:\n",
    "        lst106.append(i)\n",
    "        \n",
    "tup6 = tuple(lst106)        \n",
    "print(tup6)"
   ]
  },
  {
   "cell_type": "markdown",
   "id": "74917422-521f-4157-80d5-8b11927285b3",
   "metadata": {},
   "source": [
    "#### 12. Concatenate two tuples."
   ]
  },
  {
   "cell_type": "code",
   "execution_count": 48,
   "id": "654b1e8d-3499-400b-9092-92d4ff52cc3a",
   "metadata": {},
   "outputs": [
    {
     "name": "stdout",
     "output_type": "stream",
     "text": [
      "(1, 3, 5, 7, 9, 2, 4, 6, 8, 10)\n"
     ]
    }
   ],
   "source": [
    "tup7 = (1, 3, 5, 7, 9)\n",
    "tup8 = (2, 4, 6, 8, 10)\n",
    "\n",
    "tup9 = tup7 + tup8\n",
    "print(tup9)"
   ]
  },
  {
   "cell_type": "markdown",
   "id": "ae4deea7-ec63-45e5-8649-8dd091fc72ae",
   "metadata": {},
   "source": [
    "#### 13. Repeat a tuple three times."
   ]
  },
  {
   "cell_type": "code",
   "execution_count": 49,
   "id": "5fbbb1b4-a180-4c19-be31-52e7cfaeba04",
   "metadata": {},
   "outputs": [
    {
     "name": "stdout",
     "output_type": "stream",
     "text": [
      "(1, 3, 5, 7, 9, 1, 3, 5, 7, 9, 1, 3, 5, 7, 9)\n"
     ]
    }
   ],
   "source": [
    "tup10 = tup7 * 3\n",
    "print(tup10)"
   ]
  },
  {
   "cell_type": "markdown",
   "id": "f9936088-1900-47cc-a9f6-24e26e123bfc",
   "metadata": {},
   "source": [
    "#### 14. Check if a tuple is empty."
   ]
  },
  {
   "cell_type": "code",
   "execution_count": 54,
   "id": "ecd6dcc8-f53d-4540-a653-d8acc94d06b6",
   "metadata": {},
   "outputs": [
    {
     "name": "stdout",
     "output_type": "stream",
     "text": [
      "Empty tuple.\n"
     ]
    }
   ],
   "source": [
    "tup11 = ()\n",
    "\n",
    "if tup11 == ():\n",
    "    print(\"Empty tuple.\")\n",
    "else:\n",
    "    print(\"Not empty\")"
   ]
  },
  {
   "cell_type": "markdown",
   "id": "5c0efbc8-677f-4900-9b5d-0efcfb5a8942",
   "metadata": {},
   "source": [
    "#### 15. Create a nested tuple."
   ]
  },
  {
   "cell_type": "code",
   "execution_count": 56,
   "id": "1f274354-cb06-4f2c-9532-d52673e64c08",
   "metadata": {},
   "outputs": [
    {
     "name": "stdout",
     "output_type": "stream",
     "text": [
      "Nested tuple: ((1, 2, 3), (True, False))\n"
     ]
    }
   ],
   "source": [
    "nested_tuple = ((1, 2, 3), (True, False))\n",
    "\n",
    "print(\"Nested tuple:\", nested_tuple)"
   ]
  },
  {
   "cell_type": "markdown",
   "id": "0f364f03-ac9b-4b42-8a15-4f4bf8d45b4a",
   "metadata": {},
   "source": [
    "#### 16. Access the first element of a nested tuple."
   ]
  },
  {
   "cell_type": "code",
   "execution_count": 58,
   "id": "fbb3278f-c072-456f-8972-ca354e67f028",
   "metadata": {},
   "outputs": [
    {
     "name": "stdout",
     "output_type": "stream",
     "text": [
      "1\n"
     ]
    }
   ],
   "source": [
    "print(nested_tuple[0][0])"
   ]
  },
  {
   "cell_type": "markdown",
   "id": "96cc9a1c-34c5-4497-b244-dbe10a02b96e",
   "metadata": {},
   "source": [
    "#### 17. Create a tuple with a single element."
   ]
  },
  {
   "cell_type": "code",
   "execution_count": 59,
   "id": "3f875927-a0be-4ca0-8cda-c2ec7d02d0aa",
   "metadata": {},
   "outputs": [
    {
     "name": "stdout",
     "output_type": "stream",
     "text": [
      "(1,)\n"
     ]
    }
   ],
   "source": [
    "tup12 = (1, )\n",
    "print(tup12)"
   ]
  },
  {
   "cell_type": "markdown",
   "id": "7fd0d71c-380a-4d00-a739-d63584dbb8eb",
   "metadata": {},
   "source": [
    "#### 18. Compare two tuples."
   ]
  },
  {
   "cell_type": "code",
   "execution_count": 60,
   "id": "0305442b-50e7-4b52-8d4f-5114f6980e1b",
   "metadata": {},
   "outputs": [
    {
     "name": "stdout",
     "output_type": "stream",
     "text": [
      "tuple13 == tuple14: False\n"
     ]
    }
   ],
   "source": [
    "tuple13 = (1, 2, 3)\n",
    "tuple14= (1, 2, 4)\n",
    "\n",
    "print(\"tuple13 == tuple14:\", tuple13 == tuple14)  # Equality check\n"
   ]
  },
  {
   "cell_type": "markdown",
   "id": "399f8392-c515-40cb-b2e4-ce22e529ddb9",
   "metadata": {},
   "source": [
    "#### 19. Delete a tuple."
   ]
  },
  {
   "cell_type": "code",
   "execution_count": 63,
   "id": "2f1ffc5e-e1cd-4bb5-ade1-7a480f3ea742",
   "metadata": {},
   "outputs": [
    {
     "ename": "NameError",
     "evalue": "name 'tup15' is not defined",
     "output_type": "error",
     "traceback": [
      "\u001b[0;31m---------------------------------------------------------------------------\u001b[0m",
      "\u001b[0;31mNameError\u001b[0m                                 Traceback (most recent call last)",
      "Cell \u001b[0;32mIn[63], line 5\u001b[0m\n\u001b[1;32m      1\u001b[0m tup15 \u001b[38;5;241m=\u001b[39m (\u001b[38;5;241m1\u001b[39m, )\n\u001b[1;32m      3\u001b[0m \u001b[38;5;28;01mdel\u001b[39;00m tup15\n\u001b[0;32m----> 5\u001b[0m \u001b[38;5;28mprint\u001b[39m(\u001b[43mtup15\u001b[49m)\n",
      "\u001b[0;31mNameError\u001b[0m: name 'tup15' is not defined"
     ]
    }
   ],
   "source": [
    "tup15 = (1, )\n",
    "\n",
    "del tup15\n",
    "\n",
    "print(tup15)"
   ]
  },
  {
   "cell_type": "markdown",
   "id": "c718a529-49d2-47ec-a417-d769e8204be1",
   "metadata": {},
   "source": [
    "#### 20. Slice a tuple."
   ]
  },
  {
   "cell_type": "code",
   "execution_count": 65,
   "id": "58809861-4bde-407b-89a4-41cb247668de",
   "metadata": {},
   "outputs": [
    {
     "name": "stdout",
     "output_type": "stream",
     "text": [
      "(4, 5, 33)\n"
     ]
    }
   ],
   "source": [
    "tup16= (1, 2, 4, 5, 33, 21, 98, 0)\n",
    "\n",
    "print(tup16[2:5])"
   ]
  },
  {
   "cell_type": "markdown",
   "id": "31fce0af-b0a6-487e-a08e-d6650c452a7c",
   "metadata": {},
   "source": [
    "#### 21. Find the maximum value in a tuple."
   ]
  },
  {
   "cell_type": "code",
   "execution_count": 66,
   "id": "55c1e0cb-cd4e-4c9f-82c6-36917c2cdf58",
   "metadata": {},
   "outputs": [
    {
     "name": "stdout",
     "output_type": "stream",
     "text": [
      "98\n"
     ]
    }
   ],
   "source": [
    "print(max(tup16))"
   ]
  },
  {
   "cell_type": "markdown",
   "id": "3686c416-ff80-43b3-8624-2053d7be3951",
   "metadata": {},
   "source": [
    "#### 22. Find the minimum value in a tuple."
   ]
  },
  {
   "cell_type": "code",
   "execution_count": 67,
   "id": "922a6a57-2925-45a7-b866-fdb14c5d665e",
   "metadata": {},
   "outputs": [
    {
     "name": "stdout",
     "output_type": "stream",
     "text": [
      "0\n"
     ]
    }
   ],
   "source": [
    "print(min(tup16))"
   ]
  },
  {
   "cell_type": "markdown",
   "id": "58a9eb40-ef9c-49c3-9b34-d864ee14fc51",
   "metadata": {},
   "source": [
    "#### 23. Convert a string to a tuple of characters."
   ]
  },
  {
   "cell_type": "code",
   "execution_count": 68,
   "id": "e6fbb635-bcfb-40a9-8a84-e308c5b10adb",
   "metadata": {},
   "outputs": [
    {
     "name": "stdout",
     "output_type": "stream",
     "text": [
      "('a', 'n', 'd', 'k', 'a', 'n', 'd', 'o', 'a', 'd', 'n', 'o', 'a', 'd')\n"
     ]
    }
   ],
   "source": [
    "strt = \"andkandoadnoad\"\n",
    "\n",
    "print(tuple(strt))"
   ]
  },
  {
   "cell_type": "markdown",
   "id": "0f61ca20-558e-48e7-8f03-5c2bccd76d2b",
   "metadata": {},
   "source": [
    "#### 24. Convert a tuple of characters to a string."
   ]
  },
  {
   "cell_type": "code",
   "execution_count": 70,
   "id": "0aa09d90-8fd1-4b51-a409-19987c60ba53",
   "metadata": {},
   "outputs": [
    {
     "name": "stdout",
     "output_type": "stream",
     "text": [
      "andkandoadnoad\n"
     ]
    }
   ],
   "source": [
    "tup17 = ('a', 'n', 'd', 'k', 'a', 'n', 'd', 'o', 'a', 'd', 'n', 'o', 'a', 'd')\n",
    "\n",
    "print(\"\".join(tup17))"
   ]
  },
  {
   "cell_type": "markdown",
   "id": "623ecd79-7e5b-4c10-b9ad-7014d3f284ee",
   "metadata": {},
   "source": [
    "#### 25. Create a tuple from multiple data types."
   ]
  },
  {
   "cell_type": "code",
   "execution_count": 71,
   "id": "29fc297d-1cda-4495-aa65-ecc06e6fc7c8",
   "metadata": {},
   "outputs": [
    {
     "name": "stdout",
     "output_type": "stream",
     "text": [
      "(True, 'web', 24, 4.8)\n"
     ]
    }
   ],
   "source": [
    "tup18 = (True, \"web\", 24, 4.8)\n",
    "\n",
    "# Printing the tuple\n",
    "print(tup18)"
   ]
  },
  {
   "cell_type": "markdown",
   "id": "05066ebd-2ddb-4e6a-ba65-4cbe23ea1e8a",
   "metadata": {},
   "source": [
    "#### 26. Check if two tuples are identical."
   ]
  },
  {
   "cell_type": "code",
   "execution_count": 72,
   "id": "a0774898-438f-4473-970b-5ae5ef28eda6",
   "metadata": {},
   "outputs": [
    {
     "name": "stdout",
     "output_type": "stream",
     "text": [
      "tuple13 == tuple14: False\n"
     ]
    }
   ],
   "source": [
    "tuple13 = (1, 2, 3)\n",
    "tuple14= (1, 2, 4)\n",
    "\n",
    "print(\"tuple13 == tuple14:\", tuple13 == tuple14)  "
   ]
  },
  {
   "cell_type": "markdown",
   "id": "f043ce83-be66-422a-ab01-c9473cdf8e98",
   "metadata": {},
   "source": [
    "#### 27. Sort the elements of a tuple."
   ]
  },
  {
   "cell_type": "code",
   "execution_count": 75,
   "id": "f6723484-1154-4570-96f7-a94adcacdc90",
   "metadata": {},
   "outputs": [
    {
     "name": "stdout",
     "output_type": "stream",
     "text": [
      "(0, 1, 2, 4, 5, 21, 33, 98)\n"
     ]
    }
   ],
   "source": [
    "tup19= (1, 2, 4, 5, 33, 21, 98, 0)\n",
    "\n",
    "sorted_tup = tuple(sorted(tup19))\n",
    "\n",
    "print(sorted_tup)"
   ]
  },
  {
   "cell_type": "markdown",
   "id": "162488c3-9fdc-4735-b47b-ba02f0f860ec",
   "metadata": {},
   "source": [
    "#### 28. Convert a tuple of integers to a tuple of strings."
   ]
  },
  {
   "cell_type": "code",
   "execution_count": 76,
   "id": "2322c8d6-e3b5-466e-98b2-2698471a49f2",
   "metadata": {},
   "outputs": [
    {
     "name": "stdout",
     "output_type": "stream",
     "text": [
      "('1', '2', '3', '24', '62')\n"
     ]
    }
   ],
   "source": [
    "tup20 = (1, 2, 3, 24, 62)\n",
    "\n",
    "tup21 = tuple([str(x) for x in tup20])\n",
    "\n",
    "print(tup21)"
   ]
  },
  {
   "cell_type": "markdown",
   "id": "41423626-b5be-4e82-a959-b34af57be510",
   "metadata": {},
   "source": [
    "#### 29. Convert a tuple of strings to a tuple of integers."
   ]
  },
  {
   "cell_type": "code",
   "execution_count": 77,
   "id": "dc414af9-11f9-48b9-8a70-09addff86b86",
   "metadata": {},
   "outputs": [
    {
     "name": "stdout",
     "output_type": "stream",
     "text": [
      "(1, 2, 3, 24, 62)\n"
     ]
    }
   ],
   "source": [
    "tup22 = ('1', '2', '3', '24', '62')\n",
    "\n",
    "tup23 = tuple([int(x) for x in tup22])\n",
    "\n",
    "print(tup23)"
   ]
  },
  {
   "cell_type": "markdown",
   "id": "862b7f06-1357-4401-968e-55919d486d7f",
   "metadata": {},
   "source": [
    "#### 30. Merge two tuples."
   ]
  },
  {
   "cell_type": "code",
   "execution_count": 78,
   "id": "e0b779a6-9f01-43f8-b43e-562b1f879ba3",
   "metadata": {},
   "outputs": [
    {
     "name": "stdout",
     "output_type": "stream",
     "text": [
      "(1, 2, 3, 1, 2, 4)\n"
     ]
    }
   ],
   "source": [
    "tup24 = (1, 2, 3)\n",
    "tup25= (1, 2, 4)\n",
    "\n",
    "merged_tup = tup24 + tup25\n",
    "print(merged_tup)"
   ]
  },
  {
   "cell_type": "markdown",
   "id": "33cf3c2a-31f8-496f-bd3b-f3ee4107f748",
   "metadata": {},
   "source": [
    "#### 31. Flatten a nested tuple."
   ]
  },
  {
   "cell_type": "code",
   "execution_count": 83,
   "id": "26d91422-8733-40c9-a51c-9e9f2fc958d3",
   "metadata": {},
   "outputs": [
    {
     "name": "stdout",
     "output_type": "stream",
     "text": [
      "(1, 2, 3, 4, 5, 6, 7, 8, 9)\n"
     ]
    }
   ],
   "source": [
    "tup26 = ((1, 2, 3), (4, 5), (6, 7, 8, 9))\n",
    "\n",
    "temp_lst26 = [list(i) for i in tup26]  # convert nested tuple to nested list\n",
    "\n",
    "flattened = []\n",
    "\n",
    "for i in temp_lst26:\n",
    "    flattened.extend(i)\n",
    "    \n",
    "print(tuple(flattened))"
   ]
  },
  {
   "cell_type": "markdown",
   "id": "5c4edaf1-2b23-40fd-8220-5332a307f9af",
   "metadata": {},
   "source": [
    "#### 32. Create a tuple of the first 5 prime numbers."
   ]
  },
  {
   "cell_type": "code",
   "execution_count": 84,
   "id": "ae438f9d-786d-4c7c-bcb6-4f49916d8c27",
   "metadata": {},
   "outputs": [
    {
     "name": "stdout",
     "output_type": "stream",
     "text": [
      "(2, 3, 5, 7, 11)\n"
     ]
    }
   ],
   "source": [
    "prime_list = []\n",
    "\n",
    "for i in range(50):\n",
    "    if i == 2 or i == 3 or i == 5 or i == 7:\n",
    "        prime_list.append(i)\n",
    "    elif i > 2:\n",
    "        if i % 2 == 1 and i % 3 != 0 and i % 5 != 0 and i % 7 != 0:\n",
    "            prime_list.append(i) \n",
    "            \n",
    "            \n",
    "print(tuple(prime_list[:5]))"
   ]
  },
  {
   "cell_type": "markdown",
   "id": "f8dc3135-f122-42ed-b546-2fae33e81006",
   "metadata": {},
   "source": [
    "#### 33. Check if a tuple is a palindrome."
   ]
  },
  {
   "cell_type": "code",
   "execution_count": 93,
   "id": "d8825f6b-aa12-4418-8d4f-1ed9b4f504d2",
   "metadata": {},
   "outputs": [
    {
     "name": "stdout",
     "output_type": "stream",
     "text": [
      "It is a palindrome.\n"
     ]
    }
   ],
   "source": [
    "tup27 = (\"nitin\")\n",
    "\n",
    "strt27 = str(tup27)\n",
    "\n",
    "if strt27 == strt27[::-1]:\n",
    "    print(\"It is a palindrome.\")\n",
    "else:\n",
    "    print(\"Nope\")"
   ]
  },
  {
   "cell_type": "markdown",
   "id": "dc57ef93-9a5b-49eb-9634-d4756e7c1da3",
   "metadata": {},
   "source": [
    "#### 34. Create a tuple of squares of numbers from 1 to 5."
   ]
  },
  {
   "cell_type": "code",
   "execution_count": 94,
   "id": "15bb4d7f-e604-4cd1-93ec-54a0d4bdd444",
   "metadata": {},
   "outputs": [
    {
     "name": "stdout",
     "output_type": "stream",
     "text": [
      "(1, 4, 9, 16, 25)\n"
     ]
    }
   ],
   "source": [
    "lsts = []\n",
    "\n",
    "for i in range(1, 6):\n",
    "    lsts.append(i ** 2)\n",
    "\n",
    "tup28 = tuple(lsts)\n",
    "print(tup28)"
   ]
  },
  {
   "cell_type": "markdown",
   "id": "05c6894f-7ffd-44a3-9624-1e0e171b1dab",
   "metadata": {},
   "source": [
    "#### 35. Filter out all even numbers from a tuple."
   ]
  },
  {
   "cell_type": "code",
   "execution_count": 95,
   "id": "0d13ad1c-f02f-4793-95ac-c5dfb54d96a9",
   "metadata": {},
   "outputs": [
    {
     "name": "stdout",
     "output_type": "stream",
     "text": [
      "(2, 56, 78, 10)\n"
     ]
    }
   ],
   "source": [
    "tup29 = (2, 43, 56, 78, 99, 10, 11)\n",
    "\n",
    "templ = list(tup29)\n",
    "t = []\n",
    "\n",
    "for i in templ:\n",
    "    if i % 2 == 0:\n",
    "      t.append(i)\n",
    "\n",
    "tup30 = tuple(t)\n",
    "print(tup30)"
   ]
  },
  {
   "cell_type": "markdown",
   "id": "ca3812e4-a321-4fda-8091-92e027fc276b",
   "metadata": {},
   "source": [
    "#### 36. Multiply all elements in a tuple by 2."
   ]
  },
  {
   "cell_type": "code",
   "execution_count": 1,
   "id": "b72dc99b-c030-4924-ac69-dddfda69d0c6",
   "metadata": {},
   "outputs": [
    {
     "name": "stdout",
     "output_type": "stream",
     "text": [
      "(4, 86, 112, 156, 198, 20, 22)\n"
     ]
    }
   ],
   "source": [
    "tup31 = (2, 43, 56, 78, 99, 10, 11)\n",
    "\n",
    "mul = tuple([x * 2 for x in tup31])\n",
    "\n",
    "print(mul)"
   ]
  },
  {
   "cell_type": "markdown",
   "id": "49307dec-5b44-44e5-aeb1-041563c46803",
   "metadata": {},
   "source": [
    "#### 37. Create a tuple of random numbers."
   ]
  },
  {
   "cell_type": "code",
   "execution_count": 3,
   "id": "5991d039-f6e3-42a1-9499-f3c9d7d0fe53",
   "metadata": {},
   "outputs": [
    {
     "name": "stdout",
     "output_type": "stream",
     "text": [
      "(47, 40, 26, 35, 19, 11, 36, 23, 8, 41)\n"
     ]
    }
   ],
   "source": [
    "import random\n",
    "\n",
    "radtup = tuple([random.randint(1, 50) for i in range(10)])\n",
    "\n",
    "\n",
    "print(radtup)"
   ]
  },
  {
   "cell_type": "markdown",
   "id": "9e3a8187-33c6-48f7-9799-eaa9e5aa925d",
   "metadata": {},
   "source": [
    "#### 38. Check if a tuple is sorted."
   ]
  },
  {
   "cell_type": "code",
   "execution_count": 6,
   "id": "c75edd71-2d63-41e6-adc9-da4f7d4e6b9c",
   "metadata": {},
   "outputs": [
    {
     "name": "stdout",
     "output_type": "stream",
     "text": [
      "The tuple is not sorted.\n"
     ]
    }
   ],
   "source": [
    "def is_sorted(t):\n",
    "    for i in range(len(t) - 1):\n",
    "        if t[i] > t[i + 1]:\n",
    "            return False\n",
    "    return True\n",
    "\n",
    "tup32 = (2, 43, 56, 78, 99, 10, 11)\n",
    "tept = list(tup32)\n",
    "\n",
    "if is_sorted(tept):\n",
    "    print(\"The tuple is sorted.\")\n",
    "else:\n",
    "    print(\"The tuple is not sorted.\")\n",
    "\n"
   ]
  },
  {
   "cell_type": "markdown",
   "id": "756ec5c4-52aa-4e9a-a4be-966b615d3998",
   "metadata": {},
   "source": [
    "#### 39. Rotate a tuple to the left by `n` positions."
   ]
  },
  {
   "cell_type": "code",
   "execution_count": 7,
   "id": "d527e3ca-5151-4156-b93a-477769299723",
   "metadata": {},
   "outputs": [
    {
     "name": "stdout",
     "output_type": "stream",
     "text": [
      "Tuple rotated to the left by 4 positions: (99, 10, 11, 2, 43, 56, 78)\n"
     ]
    }
   ],
   "source": [
    "def rotate_left(lst, n):\n",
    "    n = n % len(lst)  # To handle cases where n is larger than the list length\n",
    "    return lst[n:] + lst[:n]\n",
    "\n",
    "tup33 = (2, 43, 56, 78, 99, 10, 11)\n",
    "\n",
    "rtl = list(tup33)\n",
    "positions_to_rotate = 4\n",
    "\n",
    "rotated_tuple = tuple(rotate_left(rtl, positions_to_rotate))\n",
    "print(f\"Tuple rotated to the left by {positions_to_rotate} positions: {rotated_tuple}\")\n"
   ]
  },
  {
   "cell_type": "markdown",
   "id": "0fc32765-1ca4-4060-832d-6f834ba0b5f0",
   "metadata": {},
   "source": [
    "#### 40. Rotate a tuple to the right by `n` positions."
   ]
  },
  {
   "cell_type": "code",
   "execution_count": 9,
   "id": "38fdfa05-a3d8-4f94-bcbe-e9562b989d69",
   "metadata": {},
   "outputs": [
    {
     "name": "stdout",
     "output_type": "stream",
     "text": [
      "Tuple rotated to the right by 4 positions: (78, 99, 10, 11, 2, 43, 56)\n"
     ]
    }
   ],
   "source": [
    "def rotate_right(lst, n):\n",
    "    n = n % len(lst)  # To handle cases where n is larger than the list length\n",
    "    return lst[-n:] + lst[:-n]\n",
    "\n",
    "tup34 = (2, 43, 56, 78, 99, 10, 11)\n",
    "\n",
    "rtl = list(tup34)\n",
    "positions_to_rotate = 4\n",
    "\n",
    "rotated_tuple = tuple(rotate_right(rtl, positions_to_rotate))\n",
    "print(f\"Tuple rotated to the right by {positions_to_rotate} positions: {rotated_tuple}\")"
   ]
  },
  {
   "cell_type": "markdown",
   "id": "e6f07b72-b4cd-4f1c-8854-fba0908e156f",
   "metadata": {},
   "source": [
    "#### 41. Create a tuple of the first 5 Fibonacci numbers."
   ]
  },
  {
   "cell_type": "code",
   "execution_count": 68,
   "id": "d20e6792-3259-4417-87ff-d0678c0dfdf4",
   "metadata": {},
   "outputs": [
    {
     "name": "stdout",
     "output_type": "stream",
     "text": [
      "Tuple of First 5 Fibonacci numbers: (0, 1, 1, 2, 3)\n"
     ]
    }
   ],
   "source": [
    "def fibo(n):\n",
    "    if n <= 1:\n",
    "        return n\n",
    "    else:\n",
    "        return fibo(n-1) + fibo(n-2)\n",
    "    \n",
    "fnum = 5\n",
    "fl = []\n",
    "\n",
    "for i in range(fnum):\n",
    "    fl.append(fibo(i))  \n",
    "\n",
    "tup35 = tuple(fl)\n",
    "\n",
    "print(f\"Tuple of First 5 Fibonacci numbers: {tup35}\")"
   ]
  },
  {
   "cell_type": "markdown",
   "id": "aa6492eb-ebc2-40d9-9543-bfad4614fdf3",
   "metadata": {},
   "source": [
    "#### 42. Create a tuple from user input."
   ]
  },
  {
   "cell_type": "code",
   "execution_count": 17,
   "id": "03090b75-be3e-4895-bbcd-6c6dddf4b25f",
   "metadata": {},
   "outputs": [
    {
     "name": "stdin",
     "output_type": "stream",
     "text": [
      "Enter 1 element of tuple: sdf\n",
      "Enter 2 element of tuple: asf\n",
      "Enter 3 element of tuple: asf\n",
      "Enter 4 element of tuple: a\n",
      "Enter 5 element of tuple: af\n"
     ]
    },
    {
     "name": "stdout",
     "output_type": "stream",
     "text": [
      "('sdf', 'asf', 'asf', 'a', 'af')\n"
     ]
    }
   ],
   "source": [
    "inl = []\n",
    "\n",
    "for i in range(5):\n",
    "    inl.append(input(f\"Enter {i + 1} element of tuple:\"))\n",
    "    \n",
    "inpt = tuple(inl)\n",
    "print(inpt)"
   ]
  },
  {
   "cell_type": "markdown",
   "id": "39ff9d38-1a4c-4b39-b91b-2fe1d33274c7",
   "metadata": {},
   "source": [
    "#### 43. Swap two elements in a tuple."
   ]
  },
  {
   "cell_type": "code",
   "execution_count": 18,
   "id": "404176f7-da44-47c1-a0ef-dda6c563fcd2",
   "metadata": {},
   "outputs": [
    {
     "name": "stdout",
     "output_type": "stream",
     "text": [
      "('sdf', 'a', 'asf', 'asf', 'af')\n"
     ]
    }
   ],
   "source": [
    "stup = ('sdf', 'asf', 'asf', 'a', 'af')\n",
    "\n",
    "tsw = list(stup)\n",
    "\n",
    "tsw[1], tsw[3] = tsw[3], tsw[1]\n",
    "\n",
    "astup = tuple(tsw)\n",
    "print(astup)"
   ]
  },
  {
   "cell_type": "markdown",
   "id": "f8e65480-c5e9-4772-a77b-9933846f9799",
   "metadata": {},
   "source": [
    "#### 44. Reverse the elements of a tuple."
   ]
  },
  {
   "cell_type": "code",
   "execution_count": 21,
   "id": "0f1eac2a-7297-46e6-92cd-de450c3e7975",
   "metadata": {},
   "outputs": [
    {
     "name": "stdout",
     "output_type": "stream",
     "text": [
      "(56, 43, 2, 11, 10, 99, 78)\n"
     ]
    }
   ],
   "source": [
    "tup36 = (78, 99, 10, 11, 2, 43, 56)\n",
    "\n",
    "temp36 = list(tup36)\n",
    "rl = temp36[::-1]\n",
    "\n",
    "atup36 = tuple(rl)\n",
    "print(atup36)"
   ]
  },
  {
   "cell_type": "markdown",
   "id": "47523731-30cf-4c6b-9eec-16e323af73d9",
   "metadata": {},
   "source": [
    "#### 45. Create a tuple of the first `n` powers of 2."
   ]
  },
  {
   "cell_type": "code",
   "execution_count": 22,
   "id": "33f8024c-a347-449c-bc4c-5ff53afdbf72",
   "metadata": {},
   "outputs": [
    {
     "name": "stdout",
     "output_type": "stream",
     "text": [
      "(1, 2, 4, 8, 16)\n"
     ]
    }
   ],
   "source": [
    "num = 5\n",
    "\n",
    "powr_lst = [2 ** i for i in range(num)]\n",
    "\n",
    "powr_tup = tuple(powr_lst)\n",
    "\n",
    "print(powr_tup)"
   ]
  },
  {
   "cell_type": "markdown",
   "id": "7b6e2fe7-9f54-4c45-9269-38ae22679d5e",
   "metadata": {},
   "source": [
    "#### 46. Find the longest string in a tuple of strings."
   ]
  },
  {
   "cell_type": "code",
   "execution_count": 25,
   "id": "d8a6bba6-b49c-4828-a422-7dab3ab0c48e",
   "metadata": {},
   "outputs": [
    {
     "name": "stdout",
     "output_type": "stream",
     "text": [
      "Tuple of strings: ('The', 'time', 'complexity', 'of', 'the', 'split_sentence', 'function', 'is', 'O(n),', 'where', 'n', 'is', 'the', 'length', 'of', 'the', 'input', 'string.', 'This', 'is', 'because', 'the', 'findall', 'function', 'performs', 'a', 'linear', 'scan', 'of', 'the', 'input', 'string', 'to', 'find', 'all', 'the', 'matches.')\n",
      "Longest word in the tuple is 'split_sentence'.\n"
     ]
    }
   ],
   "source": [
    "lst40 = \"The time complexity of the split_sentence function is O(n), where n is the length of the input string. This is because the findall function performs a linear scan of the input string to find all the matches.\".split()\n",
    "tup40 = tuple(lst40)\n",
    "print(f\"Tuple of strings: {tup40}\")\n",
    "\n",
    "lsc = 0\n",
    "\n",
    "for word in tup40:\n",
    "    cnt = len(word)\n",
    "    if cnt > lsc:\n",
    "        lsc = cnt  # longest str count\n",
    "        lw = word\n",
    "        \n",
    "print(f\"Longest word in the tuple is '{lw}'.\")"
   ]
  },
  {
   "cell_type": "markdown",
   "id": "8d14d159-82d6-4fde-9b42-a83b99e9d429",
   "metadata": {},
   "source": [
    "#### 47. Find the shortest string in a tuple of strings."
   ]
  },
  {
   "cell_type": "code",
   "execution_count": null,
   "id": "74ad4a09-e700-4126-8a08-33dda9e79073",
   "metadata": {},
   "outputs": [],
   "source": [
    "ssc = len(tup40[0])\n",
    "\n",
    "for word in tup40[1:]:\n",
    "    cnt = len(word)\n",
    "    if cnt < ssc:\n",
    "        ssc = cnt  # shortest str count\n",
    "        lw = word\n",
    "        \n",
    "print(f\"Shortest word in the tuple is'{lw}'.\")"
   ]
  },
  {
   "cell_type": "markdown",
   "id": "377fe762-34ac-4ec3-bf79-3cdb5a0aa90c",
   "metadata": {},
   "source": [
    "#### 48. Create a tuple of the first `n` triangular numbers."
   ]
  },
  {
   "cell_type": "code",
   "execution_count": 27,
   "id": "be358987-e34c-424e-9e47-796d12d25048",
   "metadata": {},
   "outputs": [
    {
     "name": "stdout",
     "output_type": "stream",
     "text": [
      "(1, 3, 6, 10, 15, 21, 28, 36)\n"
     ]
    }
   ],
   "source": [
    "n = 8\n",
    "\n",
    "tr = tuple([i * (i + 1) // 2 for i in range(1, n + 1)])\n",
    "\n",
    "print(tr)"
   ]
  },
  {
   "cell_type": "markdown",
   "id": "f0c2578b-b7c8-4cb7-b573-31dd88e555c8",
   "metadata": {},
   "source": [
    "#### 49. Check if a tuple contains another tuple as a subsequence."
   ]
  },
  {
   "cell_type": "code",
   "execution_count": 29,
   "id": "ca715299-4975-417c-8c87-d9c42f40cbb7",
   "metadata": {},
   "outputs": [
    {
     "name": "stdout",
     "output_type": "stream",
     "text": [
      "Main tuple contains the subsequence.\n"
     ]
    }
   ],
   "source": [
    "# Function to check if a tuple contains another tuple as a subsequence\n",
    "def is_subsequence(subsequence, main_tup):\n",
    "    subseq_index = 0  # Index for the subsequence elements\n",
    "    for element in main_tup:\n",
    "        if element == subsequence[subseq_index]:\n",
    "            subseq_index += 1\n",
    "            if subseq_index == len(subsequence):\n",
    "                return True\n",
    "    return False\n",
    "\n",
    "# Example main tuple and subsequence\n",
    "main_tup = (1, 2, 3, 4, 5, 6, 7, 8, 9, 10)\n",
    "subsequence = (3, 7, 8)\n",
    "\n",
    "# Check if the main tuple contains the subsequence\n",
    "if is_subsequence(subsequence, main_tup):\n",
    "    print(\"Main tuple contains the subsequence.\")\n",
    "else:\n",
    "    print(\"Main tuple does not contain the subsequence.\")"
   ]
  },
  {
   "cell_type": "markdown",
   "id": "3d503f5f-2793-4839-8299-47467f484f45",
   "metadata": {},
   "source": [
    "#### 50. Create a tuple of alternating 1s and 0s of length `n`."
   ]
  },
  {
   "cell_type": "code",
   "execution_count": 31,
   "id": "3cc3806d-05ee-4fa2-9f56-bcc683296f91",
   "metadata": {},
   "outputs": [
    {
     "name": "stdout",
     "output_type": "stream",
     "text": [
      "(1, 0, 1, 0, 1, 0, 1, 0, 1, 0)\n"
     ]
    }
   ],
   "source": [
    "altl = []\n",
    "\n",
    "for i in range(10):\n",
    "    if i % 2 == 0:\n",
    "        altl.append(1)\n",
    "    else:\n",
    "        altl.append(0)\n",
    "        \n",
    "altt = tuple(altl)\n",
    "print(altt)"
   ]
  },
  {
   "cell_type": "markdown",
   "id": "abacbf37-626d-4b0f-9c90-6ec3e859b52a",
   "metadata": {},
   "source": [
    "# Set Based Practice Problem :"
   ]
  },
  {
   "cell_type": "markdown",
   "id": "d802019b-7814-4847-89a9-3a8d08bcd09f",
   "metadata": {},
   "source": [
    "#### 1. Create a set with integers from 1 to 5."
   ]
  },
  {
   "cell_type": "code",
   "execution_count": 32,
   "id": "01b20b98-3ff0-4c26-a3e6-4d96715ac123",
   "metadata": {},
   "outputs": [
    {
     "name": "stdout",
     "output_type": "stream",
     "text": [
      "{1, 2, 3, 4, 5}\n"
     ]
    }
   ],
   "source": [
    "set1 = set()\n",
    "\n",
    "for i in range(1, 6):\n",
    "    set1.add(i)\n",
    "    \n",
    "print(set1)"
   ]
  },
  {
   "cell_type": "markdown",
   "id": "44858e98-30e1-49c0-811e-871b6b6bf1b4",
   "metadata": {},
   "source": [
    "#### 2. Add an element to a set."
   ]
  },
  {
   "cell_type": "code",
   "execution_count": 34,
   "id": "9259f990-008a-483b-a61f-0f211c5759ec",
   "metadata": {},
   "outputs": [
    {
     "name": "stdout",
     "output_type": "stream",
     "text": [
      "{1, 2, 3, 4, 5, 44}\n"
     ]
    }
   ],
   "source": [
    "set1.add(44)\n",
    "print(set1)"
   ]
  },
  {
   "cell_type": "markdown",
   "id": "a928e9c8-9fbf-4809-87db-dacf6a7a0852",
   "metadata": {},
   "source": [
    "#### 3. Remove an element from a set."
   ]
  },
  {
   "cell_type": "code",
   "execution_count": 35,
   "id": "de8a9dc9-3f94-49d2-b3aa-b71d04ef4cf5",
   "metadata": {},
   "outputs": [
    {
     "name": "stdout",
     "output_type": "stream",
     "text": [
      "{1, 2, 4, 5, 44}\n"
     ]
    }
   ],
   "source": [
    "set1.remove(3)\n",
    "print(set1)"
   ]
  },
  {
   "cell_type": "markdown",
   "id": "17f2a516-f7c7-400b-b055-b47df7c5ad60",
   "metadata": {},
   "source": [
    "#### 4. Check if an element exists in a set."
   ]
  },
  {
   "cell_type": "code",
   "execution_count": 36,
   "id": "7b0037f0-5478-4f9b-b20a-497ef29f485a",
   "metadata": {},
   "outputs": [
    {
     "name": "stdout",
     "output_type": "stream",
     "text": [
      "Carla is present.\n"
     ]
    }
   ],
   "source": [
    "info = {\"Carla\", 19, False, 5.9}\n",
    "if \"Carla\" in info:\n",
    "    print(\"Carla is present.\")\n",
    "else:\n",
    "    print(\"Carla is absent.\")"
   ]
  },
  {
   "cell_type": "markdown",
   "id": "5bc2ec30-f783-40ba-9ac4-79d67579fa00",
   "metadata": {},
   "source": [
    "#### 5. Find the length of a set without using the `len()` function."
   ]
  },
  {
   "cell_type": "code",
   "execution_count": 37,
   "id": "f710674e-6bf1-496c-9663-013e854167b6",
   "metadata": {},
   "outputs": [
    {
     "name": "stdout",
     "output_type": "stream",
     "text": [
      "Length of set is 4\n"
     ]
    }
   ],
   "source": [
    "count = 0\n",
    "\n",
    "for i in info:\n",
    "    count += 1\n",
    "\n",
    "print(\"Length of set is\", count)"
   ]
  },
  {
   "cell_type": "markdown",
   "id": "e9388c75-e54a-49a4-be36-6ed30ffef254",
   "metadata": {},
   "source": [
    "#### 6. Clear all elements from a set."
   ]
  },
  {
   "cell_type": "code",
   "execution_count": 42,
   "id": "96d7e493-9c3a-4a83-b16d-2741270c0c27",
   "metadata": {},
   "outputs": [
    {
     "name": "stdout",
     "output_type": "stream",
     "text": [
      "set()\n"
     ]
    }
   ],
   "source": [
    "info.clear()\n",
    "print(info)"
   ]
  },
  {
   "cell_type": "markdown",
   "id": "2be30a94-83dd-4e84-bdfd-af2b768b7afa",
   "metadata": {},
   "source": [
    "#### 7. Create a set of even numbers from 1 to 10."
   ]
  },
  {
   "cell_type": "code",
   "execution_count": 1,
   "id": "3b335da1-bc93-4b7d-9d04-0fbf4008e68b",
   "metadata": {},
   "outputs": [
    {
     "name": "stdout",
     "output_type": "stream",
     "text": [
      "{2, 4, 6, 8, 10}\n"
     ]
    }
   ],
   "source": [
    "set2 = set()\n",
    "\n",
    "for i in range(1, 11):\n",
    "    if i % 2 == 0:\n",
    "        set2.add(i)\n",
    "        \n",
    "print(set2)"
   ]
  },
  {
   "cell_type": "markdown",
   "id": "fc8bdba9-1275-470b-b948-98e03bcf08ef",
   "metadata": {},
   "source": [
    "#### 8. Create a set of odd numbers from 1 to 10."
   ]
  },
  {
   "cell_type": "code",
   "execution_count": 2,
   "id": "649ff333-0671-4f01-abbe-3debd23d2c88",
   "metadata": {},
   "outputs": [
    {
     "name": "stdout",
     "output_type": "stream",
     "text": [
      "{1, 3, 5, 7, 9}\n"
     ]
    }
   ],
   "source": [
    "set3 = set()\n",
    "\n",
    "for i in range(1, 11):\n",
    "    if i % 2 == 1:\n",
    "        set3.add(i)\n",
    "        \n",
    "print(set3)"
   ]
  },
  {
   "cell_type": "markdown",
   "id": "f3d020c2-60a1-4872-97b3-3c105f3f1653",
   "metadata": {},
   "source": [
    "#### 9. Find the union of two sets."
   ]
  },
  {
   "cell_type": "code",
   "execution_count": 3,
   "id": "ade7d194-4271-4d96-8e85-924bddc91bf7",
   "metadata": {},
   "outputs": [
    {
     "name": "stdout",
     "output_type": "stream",
     "text": [
      "{'Berlin', 'Tokyo', 'Seoul', 'Delhi', 'Madrid', 'Kabul'}\n"
     ]
    }
   ],
   "source": [
    "cities = {\"Tokyo\", \"Madrid\", \"Berlin\", \"Delhi\"}\n",
    "cities2 = {\"Tokyo\", \"Seoul\", \"Kabul\", \"Madrid\"}\n",
    "\n",
    "cities3 = cities.union(cities2)  # union() method prints all unique items that are present in the two sets.\n",
    "print(cities3)"
   ]
  },
  {
   "cell_type": "markdown",
   "id": "d53ac4b6-b871-4817-83cd-93b89b2581b1",
   "metadata": {},
   "source": [
    "#### 10. Find the intersection of two sets."
   ]
  },
  {
   "cell_type": "code",
   "execution_count": 4,
   "id": "7cb1a352-1491-415a-a8ea-184bea22cc14",
   "metadata": {},
   "outputs": [
    {
     "name": "stdout",
     "output_type": "stream",
     "text": [
      "{'Tokyo', 'Madrid'}\n"
     ]
    }
   ],
   "source": [
    "cities3 = cities.intersection(cities2)  # intersection() method prints only items that are present in both the sets.\n",
    "print(cities3)"
   ]
  },
  {
   "cell_type": "markdown",
   "id": "2c8ccc68-7f74-4169-9f4d-f3e5b01b3c2e",
   "metadata": {},
   "source": [
    "#### 12. Check if a set is a subset of another set."
   ]
  },
  {
   "cell_type": "code",
   "execution_count": 5,
   "id": "0f5cf185-d8ee-4da6-95bd-a02e34866ef4",
   "metadata": {},
   "outputs": [
    {
     "name": "stdout",
     "output_type": "stream",
     "text": [
      "True\n"
     ]
    }
   ],
   "source": [
    "cities = {\"Tokyo\", \"Madrid\", \"Berlin\", \"Delhi\"}\n",
    "cities2 = {\"Delhi\", \"Madrid\"}\n",
    "print(cities2.issubset(cities))  # issubset() method checks if all the items are present in the particular set. It returns True if all the items are present, else it returns False."
   ]
  },
  {
   "cell_type": "markdown",
   "id": "fd54fd11-87f8-4c2f-84d1-f6a73f6be876",
   "metadata": {},
   "source": [
    "#### 13. Check if a set is a superset of another set."
   ]
  },
  {
   "cell_type": "code",
   "execution_count": 6,
   "id": "16ad20f0-8496-466c-9532-7259da8e6405",
   "metadata": {},
   "outputs": [
    {
     "name": "stdout",
     "output_type": "stream",
     "text": [
      "False\n"
     ]
    }
   ],
   "source": [
    "cities = {\"Tokyo\", \"Madrid\", \"Berlin\", \"Delhi\"}\n",
    "cities2 = {\"Seoul\", \"Kabul\"}\n",
    "print(cities.issuperset(cities2))  # issuperset() method checks if all the items of a particular set are present in the original set. It returns True if all the items are present, else it returns False."
   ]
  },
  {
   "cell_type": "markdown",
   "id": "9a8ffa3a-0b90-4d6e-aeab-1a6d22ccecc0",
   "metadata": {},
   "source": [
    "#### 14. Create a set from a list."
   ]
  },
  {
   "cell_type": "code",
   "execution_count": 7,
   "id": "455c9831-2429-4115-9629-e2ef88f1455b",
   "metadata": {},
   "outputs": [
    {
     "name": "stdout",
     "output_type": "stream",
     "text": [
      "{1, 2, 3, 4, 5, 6, 7, 8, 822}\n"
     ]
    }
   ],
   "source": [
    "lst500 = [1, 2, 3, 4, 5, 6, 7, 8, 822]\n",
    "\n",
    "set4 = set(lst500)\n",
    "print(set4)"
   ]
  },
  {
   "cell_type": "markdown",
   "id": "c887a823-c6c6-44d0-ac6d-5d20f9ebcb9b",
   "metadata": {},
   "source": [
    "#### 15. Convert a set to a list."
   ]
  },
  {
   "cell_type": "code",
   "execution_count": 2,
   "id": "2237e04d-8729-4e2e-abe7-1888c80da41c",
   "metadata": {},
   "outputs": [
    {
     "name": "stdout",
     "output_type": "stream",
     "text": [
      "[1, 2, 3, 4, 5, 6, 7, 8, 822]\n"
     ]
    }
   ],
   "source": [
    "set5 = {1, 2, 3, 4, 5, 6, 7, 8, 822}\n",
    "\n",
    "lst501 = list(set5)\n",
    "print(lst501)"
   ]
  },
  {
   "cell_type": "markdown",
   "id": "103cd759-13bb-4473-aaa0-2634c1d11f49",
   "metadata": {},
   "source": [
    "#### 16. Remove a random element from a set."
   ]
  },
  {
   "cell_type": "code",
   "execution_count": 6,
   "id": "7ce52df0-4a90-4422-8484-2bec98e5170e",
   "metadata": {},
   "outputs": [
    {
     "name": "stdout",
     "output_type": "stream",
     "text": [
      "{1, 2, 3, 5, 6, 7, 8, 822}\n"
     ]
    }
   ],
   "source": [
    "import random\n",
    "\n",
    "set5 = {1, 2, 3, 4, 5, 6, 7, 8, 822}\n",
    "\n",
    "rl = random.choice(list(set5))\n",
    "\n",
    "set5.remove(rl)\n",
    "print(set5)"
   ]
  },
  {
   "cell_type": "markdown",
   "id": "4b9b05c1-6bde-45e3-8332-c21892decb76",
   "metadata": {},
   "source": [
    "### 17. Pop an element from a set."
   ]
  },
  {
   "cell_type": "code",
   "execution_count": 17,
   "id": "c7c72b7f-54ec-4bd3-b267-a258ded13e25",
   "metadata": {},
   "outputs": [
    {
     "name": "stdout",
     "output_type": "stream",
     "text": [
      "{2, 3, 5, 6, 7, 8, 3342, 822}\n"
     ]
    }
   ],
   "source": [
    "set5 = {33, 2, 3, 3342, 5, 6, 7, 8, 822}\n",
    "set5.pop()  # This method removes the last item of the set but the catch is that we don’t know which item gets popped as sets are unordered.\n",
    "print(set5)"
   ]
  },
  {
   "cell_type": "markdown",
   "id": "4cf5595b-64a5-4995-88e7-5ccb435efaf3",
   "metadata": {},
   "source": [
    "#### 18. Check if two sets have no elements in common."
   ]
  },
  {
   "cell_type": "code",
   "execution_count": 18,
   "id": "a426173b-3689-439b-bf3c-1b62d259dacb",
   "metadata": {},
   "outputs": [
    {
     "name": "stdout",
     "output_type": "stream",
     "text": [
      "False\n"
     ]
    }
   ],
   "source": [
    "cities = {\"Tokyo\", \"Madrid\", \"Berlin\", \"Delhi\"}\n",
    "cities2 = {\"Tokyo\", \"Seoul\", \"Kabul\", \"Madrid\"}\n",
    "print(cities.isdisjoint(cities2))  # The isdisjoint() method checks if items of given set are present in another set. This method returns False if items are present, else it returns True."
   ]
  },
  {
   "cell_type": "markdown",
   "id": "ded6b87a-4b47-40dd-aeae-705d19e1bf2e",
   "metadata": {},
   "source": [
    "#### 19. Find the symmetric difference between two sets."
   ]
  },
  {
   "cell_type": "code",
   "execution_count": 19,
   "id": "cdf3cf10-2d18-4aec-b54f-b850dfdd9ae7",
   "metadata": {},
   "outputs": [
    {
     "name": "stdout",
     "output_type": "stream",
     "text": [
      "{'Seoul', 'Delhi', 'Berlin', 'Kabul'}\n"
     ]
    }
   ],
   "source": [
    "cities = {\"Tokyo\", \"Madrid\", \"Berlin\", \"Delhi\"}\n",
    "cities2 = {\"Tokyo\", \"Seoul\", \"Kabul\", \"Madrid\"}\n",
    "cities3 = cities.symmetric_difference(cities2)  # The symmetric_difference() method prints only items that are not present in both the sets.\n",
    "print(cities3)"
   ]
  },
  {
   "cell_type": "markdown",
   "id": "f6869439-d875-402f-ae2f-b744c0afe98f",
   "metadata": {},
   "source": [
    "#### 20. Update a set with elements from another set."
   ]
  },
  {
   "cell_type": "code",
   "execution_count": 20,
   "id": "cb82e8fd-c532-48e8-93c0-2ccdd35cd6a7",
   "metadata": {},
   "outputs": [
    {
     "name": "stdout",
     "output_type": "stream",
     "text": [
      "{'Warsaw', 'Tokyo', 'Seoul', 'Helsinki', 'Delhi', 'Madrid', 'Berlin'}\n"
     ]
    }
   ],
   "source": [
    "cities = {\"Tokyo\", \"Madrid\", \"Berlin\", \"Delhi\"}\n",
    "cities2 = {\"Helsinki\", \"Warsaw\", \"Seoul\"}\n",
    "cities.update(cities2)\n",
    "print(cities)"
   ]
  },
  {
   "cell_type": "markdown",
   "id": "15be0b4d-50aa-4cca-ac42-e1f5ac950b07",
   "metadata": {},
   "source": [
    "#### 21. Create a set of the first 5 prime numbers."
   ]
  },
  {
   "cell_type": "code",
   "execution_count": 33,
   "id": "7bd52a15-d60f-45f1-9765-78ecd9fcb0a9",
   "metadata": {},
   "outputs": [
    {
     "name": "stdout",
     "output_type": "stream",
     "text": [
      "{2, 3, 5, 7, 11}\n"
     ]
    }
   ],
   "source": [
    "prime_list = []\n",
    "\n",
    "for i in range(50):\n",
    "    if i == 2 or i == 3 or i == 5 or i == 7:\n",
    "        prime_list.append(i)\n",
    "    elif i > 2:\n",
    "        if i % 2 == 1 and i % 3 != 0 and i % 5 != 0 and i % 7 != 0:\n",
    "            prime_list.append(i) \n",
    "            \n",
    "            \n",
    "print(set(prime_list[:5]))"
   ]
  },
  {
   "cell_type": "markdown",
   "id": "614f01a1-551d-4ad8-bb1c-043154fc2f3c",
   "metadata": {},
   "source": [
    "#### 22. Check if two sets are identical."
   ]
  },
  {
   "cell_type": "code",
   "execution_count": 37,
   "id": "b0263267-7570-4fb3-89e5-b241f5d71c36",
   "metadata": {},
   "outputs": [
    {
     "name": "stdout",
     "output_type": "stream",
     "text": [
      "Nope\n"
     ]
    }
   ],
   "source": [
    "cities = {\"Tokyo\", \"Madrid\", \"Berlin\", \"Delhi\"}\n",
    "cities2 = {\"Helsinki\", \"Warsaw\", \"Seoul\"}\n",
    "\n",
    "if cities == cities2:\n",
    "    print(\"Two sets are identical\")\n",
    "else:\n",
    "    print(\"Nope\")"
   ]
  },
  {
   "cell_type": "markdown",
   "id": "974c539a-a497-44d2-aa31-f41dd5e94e85",
   "metadata": {},
   "source": [
    "#### 23. Create a frozen set."
   ]
  },
  {
   "cell_type": "code",
   "execution_count": 39,
   "id": "c5faa893-3824-4881-883b-d32e78afed3c",
   "metadata": {},
   "outputs": [
    {
     "name": "stdout",
     "output_type": "stream",
     "text": [
      "Frozen set: frozenset({1, 2, 3, 4, 5})\n"
     ]
    }
   ],
   "source": [
    "# A frozen set is an immutable collection similar to a set, but once it's created, \n",
    "# you cannot modify its elements.\n",
    "my_frozen_set = frozenset({1, 2, 3, 4, 5})\n",
    "\n",
    "print(\"Frozen set:\", my_frozen_set)\n"
   ]
  },
  {
   "cell_type": "markdown",
   "id": "7fbb0a62-4621-421e-a52f-7cc189848860",
   "metadata": {},
   "source": [
    "#### 24. Check if a set is disjoint with another set."
   ]
  },
  {
   "cell_type": "code",
   "execution_count": 40,
   "id": "2da40336-5d11-442e-9459-b43809e5cab9",
   "metadata": {},
   "outputs": [
    {
     "name": "stdout",
     "output_type": "stream",
     "text": [
      "False\n"
     ]
    }
   ],
   "source": [
    "cities = {\"Tokyo\", \"Madrid\", \"Berlin\", \"Delhi\"}\n",
    "cities2 = {\"Tokyo\", \"Seoul\", \"Kabul\", \"Madrid\"}\n",
    "print(cities.isdisjoint(cities2))"
   ]
  },
  {
   "cell_type": "markdown",
   "id": "b2da6cdb-a828-48d7-bf15-b6fcde10222c",
   "metadata": {},
   "source": [
    "#### 25. Create a set of squares of numbers from 1 to 5."
   ]
  },
  {
   "cell_type": "code",
   "execution_count": 42,
   "id": "d5baad5a-cb4e-4439-8acf-2ab20d2c0e59",
   "metadata": {},
   "outputs": [
    {
     "name": "stdout",
     "output_type": "stream",
     "text": [
      "{1, 4, 9, 16, 25}\n"
     ]
    }
   ],
   "source": [
    "set25 = set()\n",
    "\n",
    "for i in range(1, 6):\n",
    "    set25.add(i ** 2)\n",
    "\n",
    "print(set25)"
   ]
  },
  {
   "cell_type": "markdown",
   "id": "fa106466-9079-49e3-a5fc-9feef58da917",
   "metadata": {},
   "source": [
    "#### 26. Filter out all even numbers from a set."
   ]
  },
  {
   "cell_type": "code",
   "execution_count": 43,
   "id": "ec6dfcba-5a7a-4c5c-bb8f-3b4e4002f791",
   "metadata": {},
   "outputs": [
    {
     "name": "stdout",
     "output_type": "stream",
     "text": [
      "{16, 4}\n"
     ]
    }
   ],
   "source": [
    "set26 = {1, 4, 9, 16, 25}\n",
    "\n",
    "set26t = set()\n",
    "\n",
    "for i in set26:\n",
    "    if i % 2 == 0:\n",
    "        set26t.add(i)\n",
    "\n",
    "print(set26t)"
   ]
  },
  {
   "cell_type": "markdown",
   "id": "93fe0b66-910a-4566-9a0f-1cca76e7aab0",
   "metadata": {},
   "source": [
    "#### 27. Multiply all elements in a set by 2."
   ]
  },
  {
   "cell_type": "code",
   "execution_count": 44,
   "id": "75cd5938-25e3-4052-b9d8-755c6f9d8303",
   "metadata": {},
   "outputs": [
    {
     "name": "stdout",
     "output_type": "stream",
     "text": [
      "{4, 198, 112, 20, 22, 86, 156}\n"
     ]
    }
   ],
   "source": [
    "set27 = {2, 43, 56, 78, 99, 10, 11}\n",
    "\n",
    "mul = {x * 2 for x in set27}\n",
    "\n",
    "print(mul)"
   ]
  },
  {
   "cell_type": "markdown",
   "id": "aa43c6a8-d1fd-4be5-8450-969e24caf003",
   "metadata": {},
   "source": [
    "#### 28. Create a set of random numbers."
   ]
  },
  {
   "cell_type": "code",
   "execution_count": 45,
   "id": "99d5f4c1-5dbe-4d8e-b9d3-f5fdf27264b5",
   "metadata": {},
   "outputs": [
    {
     "name": "stdout",
     "output_type": "stream",
     "text": [
      "{36, 42, 12, 15, 17, 50, 19, 22, 31}\n"
     ]
    }
   ],
   "source": [
    "import random\n",
    "\n",
    "radset = {random.randint(1, 50) for i in range(10)}\n",
    "\n",
    "print(radset)"
   ]
  },
  {
   "cell_type": "markdown",
   "id": "7760d45b-67e6-421c-8a2b-bfa5688a696a",
   "metadata": {},
   "source": [
    "#### 29. Check if a set is empty."
   ]
  },
  {
   "cell_type": "code",
   "execution_count": 46,
   "id": "793e3682-1469-4854-ac33-3219cef0a72e",
   "metadata": {},
   "outputs": [
    {
     "name": "stdout",
     "output_type": "stream",
     "text": [
      "Not an empty set\n"
     ]
    }
   ],
   "source": [
    "set29 = {2, 43, 56, 78, 99, 10, 11}\n",
    "\n",
    "if set29 == set():\n",
    "    print(\"Empty Set\")\n",
    "else:\n",
    "    print(\"Not an empty set\")"
   ]
  },
  {
   "cell_type": "markdown",
   "id": "2a22e4bb-6f5b-42b3-80b9-8c47d4beb6af",
   "metadata": {},
   "source": [
    "#### 30. Create a nested set (hint: use frozenset)."
   ]
  },
  {
   "cell_type": "code",
   "execution_count": 48,
   "id": "4ee509df-5125-4bdc-8c2d-1e2f7c6c842d",
   "metadata": {},
   "outputs": [
    {
     "name": "stdout",
     "output_type": "stream",
     "text": [
      "{1, 90, 3, frozenset({98, 44, 78})}\n"
     ]
    }
   ],
   "source": [
    "set30 = {1, 3, frozenset({44, 78, 98}), 90}\n",
    "print(set30)"
   ]
  },
  {
   "cell_type": "markdown",
   "id": "42103ea8-249d-4417-bf21-ba668c99aaea",
   "metadata": {},
   "source": [
    "#### 31. Remove an element from a set using the discard method."
   ]
  },
  {
   "cell_type": "code",
   "execution_count": 49,
   "id": "a0a74865-f345-4f79-ba80-c13be70b66fb",
   "metadata": {},
   "outputs": [
    {
     "name": "stdout",
     "output_type": "stream",
     "text": [
      "{2, 56, 11, 10, 43, 78}\n"
     ]
    }
   ],
   "source": [
    "set31 = {2, 43, 56, 78, 99, 10, 11}\n",
    "\n",
    "set31.discard(99)\n",
    "print(set31)"
   ]
  },
  {
   "cell_type": "markdown",
   "id": "9d41a973-da16-4748-b0ff-c0a9fd2fa276",
   "metadata": {},
   "source": [
    "#### 32. Compare two sets."
   ]
  },
  {
   "cell_type": "code",
   "execution_count": 50,
   "id": "af869ef6-d722-4b5a-a3b8-bd1dfb51cd57",
   "metadata": {},
   "outputs": [
    {
     "name": "stdout",
     "output_type": "stream",
     "text": [
      "False\n"
     ]
    }
   ],
   "source": [
    "cities = {\"Tokyo\", \"Madrid\", \"Berlin\", \"Delhi\"}\n",
    "cities2 = {\"Seoul\", \"Kabul\"}\n",
    "print(cities.issuperset(cities2))"
   ]
  },
  {
   "cell_type": "markdown",
   "id": "18e3a28c-bd59-40f8-9bbf-bf204806c3e8",
   "metadata": {},
   "source": [
    "#### 33. Create a set from a string."
   ]
  },
  {
   "cell_type": "code",
   "execution_count": 51,
   "id": "a1162db4-eda7-44d4-8b09-f6620f5e5115",
   "metadata": {},
   "outputs": [
    {
     "name": "stdout",
     "output_type": "stream",
     "text": [
      "{'n', 'o', 'R'}\n"
     ]
    }
   ],
   "source": [
    "name33 = \"Ron\"\n",
    "\n",
    "set33 = set(name33)\n",
    "print(set33)"
   ]
  },
  {
   "cell_type": "markdown",
   "id": "39c98fb5-1a3a-46ed-a6b5-01fe92e3a214",
   "metadata": {},
   "source": [
    "#### 34. Convert a set of strings to a set of integers."
   ]
  },
  {
   "cell_type": "code",
   "execution_count": 55,
   "id": "56ba242e-dab2-4406-8b24-6b7f5ca2b0eb",
   "metadata": {},
   "outputs": [
    {
     "name": "stdout",
     "output_type": "stream",
     "text": [
      "{221, 109, 45}\n"
     ]
    }
   ],
   "source": [
    "set34 = {\"221\", \"45\", \"109\"}\n",
    "\n",
    "set34 = {int(item) for item in set34}\n",
    "    \n",
    "print(set34)"
   ]
  },
  {
   "cell_type": "markdown",
   "id": "f312afa4-0003-47c6-a60b-ef3617c007d2",
   "metadata": {},
   "source": [
    "#### 35. Convert a set of integers to a set of strings."
   ]
  },
  {
   "cell_type": "code",
   "execution_count": 56,
   "id": "4aa842b9-0309-47d2-9e12-13ebeae466d4",
   "metadata": {},
   "outputs": [
    {
     "name": "stdout",
     "output_type": "stream",
     "text": [
      "{'45', '109', '52', '221', '0'}\n"
     ]
    }
   ],
   "source": [
    "set35 = {221, 109, 45, 0, 52}\n",
    "\n",
    "set35 = {str(item) for item in set35}\n",
    "    \n",
    "print(set35)"
   ]
  },
  {
   "cell_type": "markdown",
   "id": "ac5ee26f-e84d-4249-ab4e-ba6da9c289fc",
   "metadata": {},
   "source": [
    "#### 36. Create a set from a tuple."
   ]
  },
  {
   "cell_type": "code",
   "execution_count": 57,
   "id": "a484ccfd-ed33-4a10-ad60-a644713ab622",
   "metadata": {},
   "outputs": [
    {
     "name": "stdout",
     "output_type": "stream",
     "text": [
      "{0, 1, 2, 33, 4, 5, 98, 21}\n"
     ]
    }
   ],
   "source": [
    "tup36 = (1, 2, 4, 5, 33, 21, 98, 0)\n",
    "\n",
    "set36 = set(tup36)\n",
    "print(set36)"
   ]
  },
  {
   "cell_type": "markdown",
   "id": "4eac475d-e389-4709-9ef0-bfd86ba61ee7",
   "metadata": {},
   "source": [
    "#### 37. Convert a set to a tuple."
   ]
  },
  {
   "cell_type": "code",
   "execution_count": 58,
   "id": "a335189f-f2da-4baa-8a09-9e3a5e5a53c4",
   "metadata": {},
   "outputs": [
    {
     "name": "stdout",
     "output_type": "stream",
     "text": [
      "(0, 1, 2, 33, 4, 5, 98, 21)\n"
     ]
    }
   ],
   "source": [
    "set37 = {0, 1, 2, 33, 4, 5, 98, 21}\n",
    "\n",
    "tup37 = tuple(set37)\n",
    "print(tup37)"
   ]
  },
  {
   "cell_type": "markdown",
   "id": "8c01a66e-d933-4981-be97-9fcb499f2222",
   "metadata": {},
   "source": [
    "#### 38. Find the maximum value in a set."
   ]
  },
  {
   "cell_type": "code",
   "execution_count": 59,
   "id": "c557c29e-b5c0-4188-b85e-105166918177",
   "metadata": {},
   "outputs": [
    {
     "name": "stdout",
     "output_type": "stream",
     "text": [
      "221\n"
     ]
    }
   ],
   "source": [
    "set38 = {221, 109, 45, 0, 52}\n",
    "\n",
    "print(max(set38))"
   ]
  },
  {
   "cell_type": "markdown",
   "id": "2287fe60-cb66-48da-99f1-5803a18da219",
   "metadata": {},
   "source": [
    "#### 39. Find the minimum value in a set."
   ]
  },
  {
   "cell_type": "code",
   "execution_count": 60,
   "id": "95216284-9427-4644-8abc-0ad9fc474ba3",
   "metadata": {},
   "outputs": [
    {
     "name": "stdout",
     "output_type": "stream",
     "text": [
      "0\n"
     ]
    }
   ],
   "source": [
    "set39 = {221, 109, 45, 0, 52}\n",
    "\n",
    "print(min(set39))"
   ]
  },
  {
   "cell_type": "markdown",
   "id": "d5fd7ddc-3b10-465e-8ae4-b411a6abfca6",
   "metadata": {},
   "source": [
    "#### 40. Create a set from user input."
   ]
  },
  {
   "cell_type": "code",
   "execution_count": 62,
   "id": "99ed0b99-ce8d-418c-a170-88be68ca7ef1",
   "metadata": {},
   "outputs": [
    {
     "name": "stdin",
     "output_type": "stream",
     "text": [
      "Enter 1 element of set: 43\n",
      "Enter 2 element of set: 23\n",
      "Enter 3 element of set: 7\n",
      "Enter 4 element of set: 9\n",
      "Enter 5 element of set: 88\n"
     ]
    },
    {
     "name": "stdout",
     "output_type": "stream",
     "text": [
      "The set created is {'88', '9', '23', '43', '7'}\n"
     ]
    }
   ],
   "source": [
    "set40 = set()\n",
    "\n",
    "for i in range(5):\n",
    "    set40.add(input(f\"Enter {i+1} element of set:\"))\n",
    "    \n",
    "print(f\"The set created is {set40}\")"
   ]
  },
  {
   "cell_type": "markdown",
   "id": "a30df7a2-09c7-4b42-8c5a-7f99263839df",
   "metadata": {},
   "source": [
    "#### 41. Check if the intersection of two sets is empty."
   ]
  },
  {
   "cell_type": "code",
   "execution_count": 63,
   "id": "fd31f4f9-34b3-4e2f-a9d4-3ee235877eea",
   "metadata": {},
   "outputs": [
    {
     "name": "stdout",
     "output_type": "stream",
     "text": [
      "set()\n"
     ]
    }
   ],
   "source": [
    "cities = {\"Tokyo\", \"Madrid\", \"Berlin\", \"Delhi\"}\n",
    "cities2 = {\"Seoul\", \"Kabul\"}\n",
    "cities3 = cities.intersection(cities2)\n",
    "print(cities3)"
   ]
  },
  {
   "cell_type": "markdown",
   "id": "b2cdeaeb-14d7-49a3-8d70-eb73d3f18842",
   "metadata": {},
   "source": [
    "#### 42. Create a set of the first 5 Fibonacci numbers."
   ]
  },
  {
   "cell_type": "code",
   "execution_count": 74,
   "id": "2b73e0c2-0e06-4f0d-8bfb-3f25a2d36261",
   "metadata": {},
   "outputs": [
    {
     "name": "stdout",
     "output_type": "stream",
     "text": [
      "Set of First 5 Fibonacci numbers: {0, 1, 2, 3, 5}\n"
     ]
    }
   ],
   "source": [
    "def fibo(n):  # gives value of the nth position of Fibonacci number\n",
    "    if n <= 1:\n",
    "        return n\n",
    "    else:\n",
    "        return fibo(n-1) + fibo(n-2)\n",
    "    \n",
    "fnum = 6  # first 5 Fibonacci numbers. As the output will be a set, second 1 will be ommitted.\n",
    "fl = []\n",
    "\n",
    "for i in range(fnum):\n",
    "    fl.append(fibo(i))  \n",
    "    \n",
    "\n",
    "print(f\"Set of First 5 Fibonacci numbers: {set(fl)}\")"
   ]
  },
  {
   "cell_type": "markdown",
   "id": "f7e2d84f-8c20-4ce1-8b28-09cb2eb7c3a4",
   "metadata": {},
   "source": [
    "#### 43. Remove duplicates from a list using sets."
   ]
  },
  {
   "cell_type": "code",
   "execution_count": 75,
   "id": "d690de1b-2696-4eaf-893f-983e7421067e",
   "metadata": {},
   "outputs": [
    {
     "name": "stdout",
     "output_type": "stream",
     "text": [
      "[2, 99, 10, 43, 11, 78, 56]\n"
     ]
    }
   ],
   "source": [
    "lst43 = [2, 2, 2, 43, 56, 78, 99, 10, 99, 11]\n",
    "\n",
    "lst43 = list(set(lst43))\n",
    "print(lst43)"
   ]
  },
  {
   "cell_type": "markdown",
   "id": "bffee392-aa33-498b-a034-b317cb6eb6e5",
   "metadata": {},
   "source": [
    "#### 44. Check if two sets have the same elements, regardless of their count."
   ]
  },
  {
   "cell_type": "code",
   "execution_count": 78,
   "id": "f8762d86-29dc-4d51-9e87-8d25ad3223ab",
   "metadata": {},
   "outputs": [
    {
     "name": "stdout",
     "output_type": "stream",
     "text": [
      "The sets have the same elements.\n"
     ]
    }
   ],
   "source": [
    "def have_same_elements(set1, set2):\n",
    "    # Convert the sets to lists and sort them\n",
    "    sorted_list1 = sorted(list(set1))\n",
    "    sorted_list2 = sorted(list(set2))\n",
    "\n",
    "    # Compare the sorted lists to check if they are equal\n",
    "    return sorted_list1 == sorted_list2\n",
    "\n",
    "set1 = {1, 2, 3, 2, 1}\n",
    "set2 = {3, 1, 2}\n",
    "\n",
    "# Check if the sets have the same elements\n",
    "result = have_same_elements(set1, set2)\n",
    "\n",
    "# Print the result\n",
    "if result:\n",
    "    print(\"The sets have the same elements.\")\n",
    "else:\n",
    "    print(\"The sets do not have the same elements.\")"
   ]
  },
  {
   "cell_type": "markdown",
   "id": "60cd6df6-c377-4185-bd7f-08d8267e8191",
   "metadata": {},
   "source": [
    "#### 45. Create a set of the first `n` powers of 2."
   ]
  },
  {
   "cell_type": "code",
   "execution_count": 79,
   "id": "f109688d-2c70-4ce3-a4a0-a68cfb9c0bcc",
   "metadata": {},
   "outputs": [
    {
     "name": "stdout",
     "output_type": "stream",
     "text": [
      "{1, 2, 4, 8, 16}\n"
     ]
    }
   ],
   "source": [
    "num = 5\n",
    "\n",
    "powr_set = {2 ** i for i in range(num)}\n",
    "\n",
    "print(powr_set)"
   ]
  },
  {
   "cell_type": "markdown",
   "id": "8e22ab7d-297e-459c-9424-a2f7e47360d9",
   "metadata": {},
   "source": [
    "#### 46. Find the common elements between a set and a list."
   ]
  },
  {
   "cell_type": "code",
   "execution_count": 80,
   "id": "924546b7-a272-4fee-8c73-7dc877704a01",
   "metadata": {},
   "outputs": [
    {
     "name": "stdout",
     "output_type": "stream",
     "text": [
      "{1, 4}\n"
     ]
    }
   ],
   "source": [
    "set46 = {1, 2, 4, 8, 16}\n",
    "\n",
    "lst46 = [1, 22, 4, 82, 36]\n",
    "\n",
    "sl46 = set(lst46)\n",
    "\n",
    "print(set46.intersection(sl46))"
   ]
  },
  {
   "cell_type": "markdown",
   "id": "8fa176f1-3977-468b-b751-8d533c1e9d82",
   "metadata": {},
   "source": [
    "#### 47. Create a set of the first `n` triangular numbers."
   ]
  },
  {
   "cell_type": "code",
   "execution_count": 81,
   "id": "479865ee-c366-482a-8b88-0663cb2ce5d6",
   "metadata": {},
   "outputs": [
    {
     "name": "stdout",
     "output_type": "stream",
     "text": [
      "{1, 3, 36, 6, 10, 15, 21, 28}\n"
     ]
    }
   ],
   "source": [
    "n = 8\n",
    "\n",
    "set47 = {i * (i + 1) // 2 for i in range(1, n + 1)}\n",
    "\n",
    "print(set47)"
   ]
  },
  {
   "cell_type": "markdown",
   "id": "9354a148-5981-42fc-9f94-f45d6b4cb788",
   "metadata": {},
   "source": [
    "#### 48. Check if a set contains another set as a subset."
   ]
  },
  {
   "cell_type": "code",
   "execution_count": 89,
   "id": "932f9893-326d-4efb-88cc-69148c16a4f6",
   "metadata": {},
   "outputs": [
    {
     "name": "stdout",
     "output_type": "stream",
     "text": [
      "True\n"
     ]
    }
   ],
   "source": [
    "cities = {\"Tokyo\", \"Madrid\", \"Berlin\", \"Delhi\"}\n",
    "cities2 = {\"Delhi\", \"Madrid\"}\n",
    "print(cities2.issubset(cities))"
   ]
  },
  {
   "cell_type": "markdown",
   "id": "2115ce0d-8179-4336-a2fe-70c1f05de109",
   "metadata": {},
   "source": [
    "#### 49. Create a set of alternating 1s and 0s of length `n`."
   ]
  },
  {
   "cell_type": "code",
   "execution_count": 84,
   "id": "404bde5b-f366-42a2-90dc-7fed70f51e03",
   "metadata": {},
   "outputs": [
    {
     "name": "stdout",
     "output_type": "stream",
     "text": [
      "{0, 1}\n"
     ]
    }
   ],
   "source": [
    "set49 = set()\n",
    "\n",
    "for i in range(10):\n",
    "    if i % 2 == 0:\n",
    "        set49.add(1)\n",
    "    else:\n",
    "        set49.add(0)\n",
    "        \n",
    "print(set49)"
   ]
  },
  {
   "cell_type": "markdown",
   "id": "bcdb08d5-291c-4ce5-8b28-b089a0965d84",
   "metadata": {},
   "source": [
    "#### 50. Merge multiple sets into one."
   ]
  },
  {
   "cell_type": "code",
   "execution_count": 90,
   "id": "d2fac29a-8a66-4d55-92df-d3e38e33f125",
   "metadata": {},
   "outputs": [
    {
     "name": "stdout",
     "output_type": "stream",
     "text": [
      "{1, 3, 4, 5, 6, 7, 74, 44, 89}\n"
     ]
    }
   ],
   "source": [
    "set50 = {1, 3, 4, 7}\n",
    "set51 = {44, 74, 89, 1, 7}\n",
    "set52 = {5, 6, 7}\n",
    "\n",
    "set50.update(set51, set52)\n",
    "print(set50)"
   ]
  }
 ],
 "metadata": {
  "kernelspec": {
   "display_name": "Python 3 (ipykernel)",
   "language": "python",
   "name": "python3"
  },
  "language_info": {
   "codemirror_mode": {
    "name": "ipython",
    "version": 3
   },
   "file_extension": ".py",
   "mimetype": "text/x-python",
   "name": "python",
   "nbconvert_exporter": "python",
   "pygments_lexer": "ipython3",
   "version": "3.10.8"
  }
 },
 "nbformat": 4,
 "nbformat_minor": 5
}
